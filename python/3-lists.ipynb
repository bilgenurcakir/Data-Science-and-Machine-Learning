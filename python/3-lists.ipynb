{
 "cells": [
  {
   "cell_type": "code",
   "execution_count": 1,
   "id": "9937fcd9-a12b-4923-ae59-5bd33f308d0c",
   "metadata": {},
   "outputs": [],
   "source": [
    "mystring=\"hello python\""
   ]
  },
  {
   "cell_type": "code",
   "execution_count": 2,
   "id": "9fb44007-adfa-4a3c-9ecf-1a3c2c6c8ce0",
   "metadata": {},
   "outputs": [
    {
     "data": {
      "text/plain": [
       "['hello', 'python']"
      ]
     },
     "execution_count": 2,
     "metadata": {},
     "output_type": "execute_result"
    }
   ],
   "source": [
    "mystring.split()"
   ]
  },
  {
   "cell_type": "code",
   "execution_count": 4,
   "id": "a072283a-9e41-43ec-b325-f568660504ad",
   "metadata": {},
   "outputs": [
    {
     "data": {
      "text/plain": [
       "list"
      ]
     },
     "execution_count": 4,
     "metadata": {},
     "output_type": "execute_result"
    }
   ],
   "source": [
    "type(mystring.split())"
   ]
  },
  {
   "cell_type": "code",
   "execution_count": 5,
   "id": "beaabc82-e27f-47a8-8d9e-59de91f6b262",
   "metadata": {},
   "outputs": [],
   "source": [
    " # mystring[0]=\"a\" hata verir\n"
   ]
  },
  {
   "cell_type": "code",
   "execution_count": 6,
   "id": "81f98e10-b7ea-4593-872f-9f402e1a67da",
   "metadata": {},
   "outputs": [],
   "source": [
    "## Lists"
   ]
  },
  {
   "cell_type": "code",
   "execution_count": 7,
   "id": "34bb6ce8-e278-4060-b935-0bd2012f8529",
   "metadata": {},
   "outputs": [],
   "source": [
    "mylist=[10,20,30]"
   ]
  },
  {
   "cell_type": "code",
   "execution_count": 8,
   "id": "0388159e-082e-4bcf-ae04-3b2784e4d786",
   "metadata": {},
   "outputs": [],
   "source": [
    "x=10\n",
    "y=90\n",
    "z=8"
   ]
  },
  {
   "cell_type": "code",
   "execution_count": 10,
   "id": "5b960e27-3629-48dc-9aa0-335e370e4f53",
   "metadata": {},
   "outputs": [],
   "source": [
    "mylist=[x,y,z]"
   ]
  },
  {
   "cell_type": "code",
   "execution_count": 11,
   "id": "75d8713b-247a-43a7-a5c4-93a6d9d5acaf",
   "metadata": {},
   "outputs": [
    {
     "data": {
      "text/plain": [
       "[10, 90, 8]"
      ]
     },
     "execution_count": 11,
     "metadata": {},
     "output_type": "execute_result"
    }
   ],
   "source": [
    "mylist"
   ]
  },
  {
   "cell_type": "code",
   "execution_count": 12,
   "id": "16b03a38-7548-4835-bd01-d6a7c3b798da",
   "metadata": {},
   "outputs": [
    {
     "data": {
      "text/plain": [
       "10"
      ]
     },
     "execution_count": 12,
     "metadata": {},
     "output_type": "execute_result"
    }
   ],
   "source": [
    "mylist[0]"
   ]
  },
  {
   "cell_type": "code",
   "execution_count": 14,
   "id": "48aabd89-c603-464c-9a4b-06e14559580c",
   "metadata": {},
   "outputs": [
    {
     "data": {
      "text/plain": [
       "int"
      ]
     },
     "execution_count": 14,
     "metadata": {},
     "output_type": "execute_result"
    }
   ],
   "source": [
    "type(mylist[0])"
   ]
  },
  {
   "cell_type": "code",
   "execution_count": 15,
   "id": "0c575c13-4cf0-4690-88e4-5346d715dd0b",
   "metadata": {},
   "outputs": [],
   "source": [
    "mylist[0]=88"
   ]
  },
  {
   "cell_type": "code",
   "execution_count": 16,
   "id": "863b6f82-0a78-482f-9631-3cc4e230ca3e",
   "metadata": {},
   "outputs": [
    {
     "data": {
      "text/plain": [
       "[88, 90, 8]"
      ]
     },
     "execution_count": 16,
     "metadata": {},
     "output_type": "execute_result"
    }
   ],
   "source": [
    "mylist"
   ]
  },
  {
   "cell_type": "code",
   "execution_count": 17,
   "id": "fb8ffdc3-89d1-462a-9208-e4be8fe05037",
   "metadata": {},
   "outputs": [
    {
     "data": {
      "text/plain": [
       "3"
      ]
     },
     "execution_count": 17,
     "metadata": {},
     "output_type": "execute_result"
    }
   ],
   "source": [
    "len(mylist)"
   ]
  },
  {
   "cell_type": "code",
   "execution_count": 20,
   "id": "9a5b98d2-71f0-43b5-b430-d581e35b8cee",
   "metadata": {},
   "outputs": [
    {
     "data": {
      "text/plain": [
       "8"
      ]
     },
     "execution_count": 20,
     "metadata": {},
     "output_type": "execute_result"
    }
   ],
   "source": [
    "mylist[-1]"
   ]
  },
  {
   "cell_type": "code",
   "execution_count": 23,
   "id": "cc8bc36d-e7d0-4b3e-a373-b5738105aa49",
   "metadata": {},
   "outputs": [
    {
     "data": {
      "text/plain": [
       "[88, 90, 8, 68, 68]"
      ]
     },
     "execution_count": 23,
     "metadata": {},
     "output_type": "execute_result"
    }
   ],
   "source": [
    "mylist.append(68)  #sona ekler\n",
    "mylist"
   ]
  },
  {
   "cell_type": "code",
   "execution_count": 25,
   "id": "9f4509ba-0d8c-4a2c-8527-5cfd103d8646",
   "metadata": {},
   "outputs": [
    {
     "data": {
      "text/plain": [
       "1"
      ]
     },
     "execution_count": 25,
     "metadata": {},
     "output_type": "execute_result"
    }
   ],
   "source": [
    "mylist.count(8) #içinde kaç adet 8 var?"
   ]
  },
  {
   "cell_type": "code",
   "execution_count": 28,
   "id": "03918d4b-9bbe-4a0a-9d08-673e4fc493c9",
   "metadata": {},
   "outputs": [
    {
     "data": {
      "text/plain": [
       "2"
      ]
     },
     "execution_count": 28,
     "metadata": {},
     "output_type": "execute_result"
    }
   ],
   "source": [
    "mylist.index(8) # 8 hangi indexte"
   ]
  },
  {
   "cell_type": "code",
   "execution_count": 31,
   "id": "6737d3cd-82e4-4aa8-8217-36ce0a2a66db",
   "metadata": {},
   "outputs": [
    {
     "data": {
      "text/plain": [
       "[88, 90, 434, 4, 8, 68, 68, 2]"
      ]
     },
     "execution_count": 31,
     "metadata": {},
     "output_type": "execute_result"
    }
   ],
   "source": [
    "mylist.insert(2,434) #istenen indexe ekle\n",
    "mylist"
   ]
  },
  {
   "cell_type": "code",
   "execution_count": 35,
   "id": "d812ca4e-4739-43d6-8346-7001e3d7a7fe",
   "metadata": {},
   "outputs": [
    {
     "data": {
      "text/plain": [
       "[88, 90, 434, 4]"
      ]
     },
     "execution_count": 35,
     "metadata": {},
     "output_type": "execute_result"
    }
   ],
   "source": [
    "mylist.pop() # son elemanı atar\n",
    "mylist"
   ]
  },
  {
   "cell_type": "code",
   "execution_count": 36,
   "id": "e2635c3f-da3d-45c3-9487-1b7999fafe99",
   "metadata": {},
   "outputs": [
    {
     "data": {
      "text/plain": [
       "[88, 90, 4]"
      ]
     },
     "execution_count": 36,
     "metadata": {},
     "output_type": "execute_result"
    }
   ],
   "source": [
    "mylist.remove(434)\n",
    "mylist"
   ]
  },
  {
   "cell_type": "code",
   "execution_count": 39,
   "id": "4ea11c9d-24e3-4b0e-9161-c9167a806228",
   "metadata": {},
   "outputs": [
    {
     "data": {
      "text/plain": [
       "[4, 90, 88]"
      ]
     },
     "execution_count": 39,
     "metadata": {},
     "output_type": "execute_result"
    }
   ],
   "source": [
    "mylist.reverse()\n",
    "mylist"
   ]
  },
  {
   "cell_type": "code",
   "execution_count": null,
   "id": "a51cae6f-bcde-44b5-b560-ab11b248e22c",
   "metadata": {},
   "outputs": [],
   "source": []
  },
  {
   "cell_type": "code",
   "execution_count": 41,
   "id": "08d413a3-889e-42ef-a559-4b8fb2fcc621",
   "metadata": {},
   "outputs": [
    {
     "data": {
      "text/plain": [
       "[4, 88, 90]"
      ]
     },
     "execution_count": 41,
     "metadata": {},
     "output_type": "execute_result"
    }
   ],
   "source": [
    "mylist.sort()\n",
    "mylist"
   ]
  },
  {
   "cell_type": "code",
   "execution_count": 1,
   "id": "1094dd36-0c5e-4f99-8e31-161c4e99e170",
   "metadata": {},
   "outputs": [
    {
     "name": "stdin",
     "output_type": "stream",
     "text": [
      "enter x 22\n"
     ]
    }
   ],
   "source": [
    "x=input(\"enter x\")"
   ]
  },
  {
   "cell_type": "code",
   "execution_count": 2,
   "id": "77d39c1c-bd49-445b-b0c4-0afc238008f2",
   "metadata": {},
   "outputs": [
    {
     "data": {
      "text/plain": [
       "'22'"
      ]
     },
     "execution_count": 2,
     "metadata": {},
     "output_type": "execute_result"
    }
   ],
   "source": [
    "x"
   ]
  },
  {
   "cell_type": "code",
   "execution_count": 3,
   "id": "00480378-114c-4678-9fb1-8dec24a4ee3a",
   "metadata": {},
   "outputs": [
    {
     "data": {
      "text/plain": [
       "str"
      ]
     },
     "execution_count": 3,
     "metadata": {},
     "output_type": "execute_result"
    }
   ],
   "source": [
    "type(x)"
   ]
  },
  {
   "cell_type": "code",
   "execution_count": 6,
   "id": "5a72c884-4d48-4304-a521-6cbdd4842271",
   "metadata": {},
   "outputs": [
    {
     "name": "stdin",
     "output_type": "stream",
     "text": [
      "enter y: 44\n"
     ]
    }
   ],
   "source": [
    "y=input(\"enter y:\")"
   ]
  },
  {
   "cell_type": "code",
   "execution_count": 7,
   "id": "14af8ac7-eeab-4ce6-9aa9-84c8860d49cc",
   "metadata": {},
   "outputs": [
    {
     "name": "stdin",
     "output_type": "stream",
     "text": [
      "enter z: 63\n"
     ]
    }
   ],
   "source": [
    "z=input(\"enter z:\")"
   ]
  },
  {
   "cell_type": "code",
   "execution_count": 8,
   "id": "ced55448-a5f8-4ab4-bda2-2e6c569006fb",
   "metadata": {},
   "outputs": [
    {
     "data": {
      "text/plain": [
       "'63'"
      ]
     },
     "execution_count": 8,
     "metadata": {},
     "output_type": "execute_result"
    }
   ],
   "source": [
    "z"
   ]
  },
  {
   "cell_type": "code",
   "execution_count": 9,
   "id": "758e1d57-9789-4e0c-af2b-81a13784744d",
   "metadata": {},
   "outputs": [
    {
     "data": {
      "text/plain": [
       "'44'"
      ]
     },
     "execution_count": 9,
     "metadata": {},
     "output_type": "execute_result"
    }
   ],
   "source": [
    "y"
   ]
  },
  {
   "cell_type": "code",
   "execution_count": 10,
   "id": "8de2807c-9cdb-446f-a438-8a12c24f5f62",
   "metadata": {},
   "outputs": [],
   "source": [
    "inputlist=[]"
   ]
  },
  {
   "cell_type": "code",
   "execution_count": 11,
   "id": "871192e8-bf1e-48dc-b5bf-1a6a4e6101ae",
   "metadata": {},
   "outputs": [],
   "source": [
    "inputlist.append(x)\n",
    "inputlist.append(y)\n",
    "inputlist.append(z)"
   ]
  },
  {
   "cell_type": "code",
   "execution_count": 12,
   "id": "a3d0dfc6-a992-46e9-8c09-5f3811b043d2",
   "metadata": {},
   "outputs": [
    {
     "data": {
      "text/plain": [
       "['22', '44', '63']"
      ]
     },
     "execution_count": 12,
     "metadata": {},
     "output_type": "execute_result"
    }
   ],
   "source": [
    "inputlist"
   ]
  },
  {
   "cell_type": "code",
   "execution_count": 13,
   "id": "ade07d11-93ec-419e-94f4-e0cadba07031",
   "metadata": {},
   "outputs": [],
   "source": [
    "#veri tipi dönüştürme"
   ]
  },
  {
   "cell_type": "code",
   "execution_count": null,
   "id": "e726de8c-4380-4f6e-ba24-83b7f7d2d9bd",
   "metadata": {},
   "outputs": [],
   "source": []
  },
  {
   "cell_type": "code",
   "execution_count": null,
   "id": "0f860c0b-5e3e-4069-9445-73b78dc836cd",
   "metadata": {},
   "outputs": [],
   "source": []
  },
  {
   "cell_type": "code",
   "execution_count": null,
   "id": "48a1ebba-0f9e-480a-8a1a-461cc1f6aff1",
   "metadata": {},
   "outputs": [],
   "source": []
  },
  {
   "cell_type": "code",
   "execution_count": 14,
   "id": "fb87e9ad-c5f5-4fed-bf85-3669505d3281",
   "metadata": {},
   "outputs": [
    {
     "data": {
      "text/plain": [
       "'8'"
      ]
     },
     "execution_count": 14,
     "metadata": {},
     "output_type": "execute_result"
    }
   ],
   "source": [
    "myinteger=8\n",
    "str(myinteger)"
   ]
  },
  {
   "cell_type": "code",
   "execution_count": 15,
   "id": "e74572e5-6337-4df1-b955-e798efba21a3",
   "metadata": {},
   "outputs": [
    {
     "data": {
      "text/plain": [
       "80"
      ]
     },
     "execution_count": 15,
     "metadata": {},
     "output_type": "execute_result"
    }
   ],
   "source": [
    "mystring=\"80\"\n",
    "int(mystring)"
   ]
  },
  {
   "cell_type": "code",
   "execution_count": 16,
   "id": "5714478d-2c68-491e-b222-22f7b01e39c3",
   "metadata": {},
   "outputs": [
    {
     "data": {
      "text/plain": [
       "80.0"
      ]
     },
     "execution_count": 16,
     "metadata": {},
     "output_type": "execute_result"
    }
   ],
   "source": [
    "float(mystring)"
   ]
  },
  {
   "cell_type": "code",
   "execution_count": 21,
   "id": "df2c5d34-50dd-4d16-b64a-fc86cbe66779",
   "metadata": {},
   "outputs": [
    {
     "data": {
      "text/plain": [
       "88"
      ]
     },
     "execution_count": 21,
     "metadata": {},
     "output_type": "execute_result"
    }
   ],
   "source": [
    "int (inputlist[1])*2"
   ]
  },
  {
   "cell_type": "code",
   "execution_count": null,
   "id": "e104b13f-4709-4f23-b560-78dda2fb748f",
   "metadata": {},
   "outputs": [],
   "source": []
  },
  {
   "cell_type": "code",
   "execution_count": 25,
   "id": "c3b3fd0b-bb96-4e0d-b2f4-1b33da2f10d0",
   "metadata": {},
   "outputs": [],
   "source": [
    "mixedlist=[\"bilge\",267,4.88]"
   ]
  },
  {
   "cell_type": "code",
   "execution_count": 27,
   "id": "ab936dc2-b777-4bdb-9684-784aa9d88311",
   "metadata": {},
   "outputs": [
    {
     "data": {
      "text/plain": [
       "[10, 20, 30, 40, 50, 60]"
      ]
     },
     "execution_count": 27,
     "metadata": {},
     "output_type": "execute_result"
    }
   ],
   "source": [
    "list1=[10,20,30]\n",
    "list2=[40,50,60]\n",
    "list1 + list2"
   ]
  },
  {
   "cell_type": "code",
   "execution_count": 28,
   "id": "7d1ead92-8b13-46ad-ab81-08c64b7b5162",
   "metadata": {},
   "outputs": [
    {
     "data": {
      "text/plain": [
       "[10, 20, 30, 10, 20, 30]"
      ]
     },
     "execution_count": 28,
     "metadata": {},
     "output_type": "execute_result"
    }
   ],
   "source": [
    "list1 * 2 "
   ]
  },
  {
   "cell_type": "code",
   "execution_count": 34,
   "id": "b62a72a0-ecd5-40fa-ae2f-d1abaf6d15aa",
   "metadata": {},
   "outputs": [],
   "source": [
    "## nestedlist --> iç içe listeler"
   ]
  },
  {
   "cell_type": "code",
   "execution_count": 32,
   "id": "f5e66adb-aef9-4217-805c-52b8a5f305f3",
   "metadata": {},
   "outputs": [],
   "source": [
    "mynestedlist=[10,20,3.14,\"bilge\",[1,2,3]]"
   ]
  },
  {
   "cell_type": "code",
   "execution_count": null,
   "id": "17d1cf8c-8975-4f9e-b5ff-50dd9da8125f",
   "metadata": {},
   "outputs": [],
   "source": []
  },
  {
   "cell_type": "code",
   "execution_count": 33,
   "id": "ae6bf478-d3aa-4484-89a1-1fb9aa51f146",
   "metadata": {},
   "outputs": [
    {
     "data": {
      "text/plain": [
       "[1, 2, 3]"
      ]
     },
     "execution_count": 33,
     "metadata": {},
     "output_type": "execute_result"
    }
   ],
   "source": [
    "mynestedlist[4]"
   ]
  },
  {
   "cell_type": "code",
   "execution_count": 37,
   "id": "effc1641-eb75-46d6-8271-26b660567903",
   "metadata": {},
   "outputs": [
    {
     "data": {
      "text/plain": [
       "3"
      ]
     },
     "execution_count": 37,
     "metadata": {},
     "output_type": "execute_result"
    }
   ],
   "source": [
    "smallist=mynestedlist[4]\n",
    "smallist[2]"
   ]
  },
  {
   "cell_type": "code",
   "execution_count": 38,
   "id": "ac56061d-39a5-4471-a031-3953b32e9a42",
   "metadata": {},
   "outputs": [
    {
     "data": {
      "text/plain": [
       "3"
      ]
     },
     "execution_count": 38,
     "metadata": {},
     "output_type": "execute_result"
    }
   ],
   "source": [
    "mynestedlist[4][2]"
   ]
  },
  {
   "cell_type": "code",
   "execution_count": null,
   "id": "3afeda1d-c136-447f-ae2c-4d1c11b83748",
   "metadata": {},
   "outputs": [],
   "source": []
  },
  {
   "cell_type": "code",
   "execution_count": null,
   "id": "93267523-7c77-4630-99fb-2dff07d567f5",
   "metadata": {},
   "outputs": [],
   "source": []
  },
  {
   "cell_type": "code",
   "execution_count": 39,
   "id": "1cc2ebb7-997a-45be-8504-18be051ad08a",
   "metadata": {},
   "outputs": [],
   "source": [
    "listem=[1,2,3,4,5,6,7,8,9]"
   ]
  },
  {
   "cell_type": "code",
   "execution_count": 40,
   "id": "98113dd1-2013-4684-8a9e-5a4b6a2eb3c0",
   "metadata": {},
   "outputs": [
    {
     "data": {
      "text/plain": [
       "[2, 3, 4, 5, 6, 7, 8, 9]"
      ]
     },
     "execution_count": 40,
     "metadata": {},
     "output_type": "execute_result"
    }
   ],
   "source": [
    "listem[1::]"
   ]
  },
  {
   "cell_type": "code",
   "execution_count": 42,
   "id": "c3005877-02dd-4a35-b2f0-135194ef15fa",
   "metadata": {},
   "outputs": [
    {
     "data": {
      "text/plain": [
       "[3, 4, 5, 6]"
      ]
     },
     "execution_count": 42,
     "metadata": {},
     "output_type": "execute_result"
    }
   ],
   "source": [
    "listem[2:6:]"
   ]
  },
  {
   "cell_type": "code",
   "execution_count": null,
   "id": "b64ed3d7-d8c7-4cf1-9cb5-8b637096db29",
   "metadata": {},
   "outputs": [],
   "source": []
  },
  {
   "cell_type": "code",
   "execution_count": 43,
   "id": "37a82dea-f357-4f81-a903-b91c7613dfdd",
   "metadata": {},
   "outputs": [
    {
     "data": {
      "text/plain": [
       "[1, 4, 7]"
      ]
     },
     "execution_count": 43,
     "metadata": {},
     "output_type": "execute_result"
    }
   ],
   "source": [
    "listem[::3]"
   ]
  },
  {
   "cell_type": "code",
   "execution_count": null,
   "id": "079505ff-7fd2-400a-950c-acadcc68a6f4",
   "metadata": {},
   "outputs": [],
   "source": []
  }
 ],
 "metadata": {
  "kernelspec": {
   "display_name": "Python [conda env:base] *",
   "language": "python",
   "name": "conda-base-py"
  },
  "language_info": {
   "codemirror_mode": {
    "name": "ipython",
    "version": 3
   },
   "file_extension": ".py",
   "mimetype": "text/x-python",
   "name": "python",
   "nbconvert_exporter": "python",
   "pygments_lexer": "ipython3",
   "version": "3.12.7"
  }
 },
 "nbformat": 4,
 "nbformat_minor": 5
}
