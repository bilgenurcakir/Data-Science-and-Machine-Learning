{
 "cells": [
  {
   "cell_type": "code",
   "execution_count": 2,
   "id": "cddca0d2-1d2c-4a1b-87f1-229f05972340",
   "metadata": {},
   "outputs": [],
   "source": [
    "x=5\n",
    "y=2"
   ]
  },
  {
   "cell_type": "code",
   "execution_count": 3,
   "id": "81095bd2-991a-4079-a69a-a8e076f3b08c",
   "metadata": {},
   "outputs": [
    {
     "data": {
      "text/plain": [
       "True"
      ]
     },
     "execution_count": 3,
     "metadata": {},
     "output_type": "execute_result"
    }
   ],
   "source": [
    "x>y"
   ]
  },
  {
   "cell_type": "code",
   "execution_count": 5,
   "id": "2d724dea-bcfc-4631-b026-2574987eb394",
   "metadata": {},
   "outputs": [],
   "source": [
    "y=5"
   ]
  },
  {
   "cell_type": "code",
   "execution_count": 7,
   "id": "c7e5cc5a-bbc3-4cc7-970d-23dcd8c4caa7",
   "metadata": {},
   "outputs": [
    {
     "data": {
      "text/plain": [
       "True"
      ]
     },
     "execution_count": 7,
     "metadata": {},
     "output_type": "execute_result"
    }
   ],
   "source": [
    "x>=y"
   ]
  },
  {
   "cell_type": "code",
   "execution_count": 8,
   "id": "3423ca0c-c65d-4d5a-8a70-9f750975969c",
   "metadata": {},
   "outputs": [],
   "source": [
    "y=8\n",
    "x=y"
   ]
  },
  {
   "cell_type": "code",
   "execution_count": 9,
   "id": "d34e3384-07ce-412c-83d9-2c644a7a35a7",
   "metadata": {},
   "outputs": [
    {
     "data": {
      "text/plain": [
       "8"
      ]
     },
     "execution_count": 9,
     "metadata": {},
     "output_type": "execute_result"
    }
   ],
   "source": [
    "x"
   ]
  },
  {
   "cell_type": "code",
   "execution_count": 10,
   "id": "a70522c1-c8c8-4e64-a044-9c9623e7f474",
   "metadata": {},
   "outputs": [],
   "source": [
    "x=10"
   ]
  },
  {
   "cell_type": "code",
   "execution_count": 11,
   "id": "59a278ba-04e5-4f39-ad39-d031df96a042",
   "metadata": {},
   "outputs": [
    {
     "data": {
      "text/plain": [
       "False"
      ]
     },
     "execution_count": 11,
     "metadata": {},
     "output_type": "execute_result"
    }
   ],
   "source": [
    "x==y"
   ]
  },
  {
   "cell_type": "code",
   "execution_count": 12,
   "id": "7720171e-9c21-4446-bb9c-9b26eab6636f",
   "metadata": {},
   "outputs": [
    {
     "data": {
      "text/plain": [
       "True"
      ]
     },
     "execution_count": 12,
     "metadata": {},
     "output_type": "execute_result"
    }
   ],
   "source": [
    "x!=y"
   ]
  },
  {
   "cell_type": "code",
   "execution_count": 13,
   "id": "aa4bb15b-0b2e-4751-9217-2db1d9defe5a",
   "metadata": {},
   "outputs": [
    {
     "data": {
      "text/plain": [
       "True"
      ]
     },
     "execution_count": 13,
     "metadata": {},
     "output_type": "execute_result"
    }
   ],
   "source": [
    "2>1 and 3>2"
   ]
  },
  {
   "cell_type": "code",
   "execution_count": 14,
   "id": "6b1a486d-c434-4d1e-9fb6-d2153edf51b9",
   "metadata": {},
   "outputs": [
    {
     "data": {
      "text/plain": [
       "False"
      ]
     },
     "execution_count": 14,
     "metadata": {},
     "output_type": "execute_result"
    }
   ],
   "source": [
    "2>1 and 3<2"
   ]
  },
  {
   "cell_type": "code",
   "execution_count": 16,
   "id": "808efad4-8d06-425c-a09a-01b65d1fee2b",
   "metadata": {},
   "outputs": [
    {
     "data": {
      "text/plain": [
       "True"
      ]
     },
     "execution_count": 16,
     "metadata": {},
     "output_type": "execute_result"
    }
   ],
   "source": [
    "2>1 or 3<2"
   ]
  },
  {
   "cell_type": "code",
   "execution_count": 17,
   "id": "0d49e5c9-c14c-4cb1-869d-e698d5ee4b5b",
   "metadata": {},
   "outputs": [
    {
     "data": {
      "text/plain": [
       "False"
      ]
     },
     "execution_count": 17,
     "metadata": {},
     "output_type": "execute_result"
    }
   ],
   "source": [
    "1>2 or 3<2"
   ]
  },
  {
   "cell_type": "code",
   "execution_count": 18,
   "id": "27757aa0-b290-49bb-b799-225c40865f43",
   "metadata": {},
   "outputs": [
    {
     "data": {
      "text/plain": [
       "False"
      ]
     },
     "execution_count": 18,
     "metadata": {},
     "output_type": "execute_result"
    }
   ],
   "source": [
    " not 1==1"
   ]
  },
  {
   "cell_type": "code",
   "execution_count": 19,
   "id": "a58e185a-0c39-4435-a5c2-509a2ee3e909",
   "metadata": {},
   "outputs": [
    {
     "data": {
      "text/plain": [
       "True"
      ]
     },
     "execution_count": 19,
     "metadata": {},
     "output_type": "execute_result"
    }
   ],
   "source": [
    "10 in [10,20,30]"
   ]
  },
  {
   "cell_type": "code",
   "execution_count": 20,
   "id": "65eed054-4277-4eb5-890e-a08d57d78c9d",
   "metadata": {},
   "outputs": [
    {
     "data": {
      "text/plain": [
       "True"
      ]
     },
     "execution_count": 20,
     "metadata": {},
     "output_type": "execute_result"
    }
   ],
   "source": [
    "5 not in [10,20,30]"
   ]
  },
  {
   "cell_type": "code",
   "execution_count": 21,
   "id": "a97573c9-d495-45cc-a4ff-31178df84de2",
   "metadata": {},
   "outputs": [
    {
     "data": {
      "text/plain": [
       "True"
      ]
     },
     "execution_count": 21,
     "metadata": {},
     "output_type": "execute_result"
    }
   ],
   "source": [
    "my_dictionary={\"a\":10,\"b\":30}\n",
    "10 in my_dictionary.values()"
   ]
  },
  {
   "cell_type": "code",
   "execution_count": 26,
   "id": "0bc99368-fc39-4b61-9570-83cd94ae2364",
   "metadata": {},
   "outputs": [
    {
     "name": "stdout",
     "output_type": "stream",
     "text": [
      "hello\n"
     ]
    }
   ],
   "source": [
    "mysuperhero=\"batman\"\n",
    "\n",
    "if mysuperhero == \"superman\":\n",
    "    print(\"batmann\")\n",
    "    print(\"bilgenur\")\n",
    "    \n",
    "print(\"hello\") \n",
    "    "
   ]
  },
  {
   "cell_type": "code",
   "execution_count": 27,
   "id": "41860e71-7cbb-4e5e-9a53-b4f85995ee28",
   "metadata": {},
   "outputs": [
    {
     "name": "stdout",
     "output_type": "stream",
     "text": [
      "bilge\n"
     ]
    }
   ],
   "source": [
    "\n",
    "if 3>2:\n",
    "    print(\"bilge\")"
   ]
  },
  {
   "cell_type": "code",
   "execution_count": 33,
   "id": "84e7ac30-096b-44db-916f-a110c5a2e251",
   "metadata": {},
   "outputs": [
    {
     "name": "stdin",
     "output_type": "stream",
     "text": [
      "enter superhero ee\n"
     ]
    },
    {
     "name": "stdout",
     "output_type": "stream",
     "text": [
      ":(\n"
     ]
    }
   ],
   "source": [
    "mysuperhero=input(\"enter superhero\")\n",
    "\n",
    "if mysuperhero==\"superman\":\n",
    "    print(\"superman\")\n",
    "elif mysuperhero==\"batman\":\n",
    "    print(\"batman\")\n",
    "else : print(\":(\")\n",
    "    "
   ]
  },
  {
   "cell_type": "code",
   "execution_count": 36,
   "id": "e00375c7-c8d5-4212-b7bd-0da238aec230",
   "metadata": {},
   "outputs": [
    {
     "name": "stdin",
     "output_type": "stream",
     "text": [
      "kahraman giriniz: wonder women\n"
     ]
    },
    {
     "name": "stdout",
     "output_type": "stream",
     "text": [
      "your hero: wonder women\n"
     ]
    }
   ],
   "source": [
    "myhero=input(\"kahraman giriniz:\")\n",
    "\n",
    "herolist=[\"superman\",\"batman\",\"wonder women\",\"ironman\",\"thor\",\"spiderman\"]\n",
    "\n",
    "if myhero in herolist:\n",
    "    print(\"your hero:\",myhero)\n",
    "else :\n",
    "    print(\"listemizde olmayan bir kahraman girdiniz :(\")\n",
    "    "
   ]
  },
  {
   "cell_type": "code",
   "execution_count": null,
   "id": "dae0f4f0-104c-4ddd-8648-1a0a664b08b4",
   "metadata": {},
   "outputs": [],
   "source": []
  },
  {
   "cell_type": "code",
   "execution_count": null,
   "id": "cfcc9579-55ab-44e0-ab8e-24011c1e57dd",
   "metadata": {},
   "outputs": [],
   "source": []
  },
  {
   "cell_type": "code",
   "execution_count": null,
   "id": "6a5b0fd7-592b-4eb3-81e5-d24820a8fd04",
   "metadata": {},
   "outputs": [],
   "source": []
  },
  {
   "cell_type": "code",
   "execution_count": null,
   "id": "c7ca3177-a3c7-4750-9860-c29b9f35d63e",
   "metadata": {},
   "outputs": [],
   "source": []
  },
  {
   "cell_type": "code",
   "execution_count": null,
   "id": "cb5c46f4-b029-43f7-bf69-fa3e1d511ad1",
   "metadata": {},
   "outputs": [],
   "source": []
  },
  {
   "cell_type": "code",
   "execution_count": null,
   "id": "86ede386-d415-4b84-b2e1-5eca90a5d5ee",
   "metadata": {},
   "outputs": [],
   "source": []
  }
 ],
 "metadata": {
  "kernelspec": {
   "display_name": "Python [conda env:base] *",
   "language": "python",
   "name": "conda-base-py"
  },
  "language_info": {
   "codemirror_mode": {
    "name": "ipython",
    "version": 3
   },
   "file_extension": ".py",
   "mimetype": "text/x-python",
   "name": "python",
   "nbconvert_exporter": "python",
   "pygments_lexer": "ipython3",
   "version": "3.12.7"
  }
 },
 "nbformat": 4,
 "nbformat_minor": 5
}
