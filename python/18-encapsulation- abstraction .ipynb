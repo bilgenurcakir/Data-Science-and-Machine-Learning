{
 "cells": [
  {
   "cell_type": "code",
   "execution_count": 28,
   "id": "fb010464-5e0b-46d6-a323-62f6ad990144",
   "metadata": {},
   "outputs": [],
   "source": [
    "# ENCAPSULATİON hapsetmek demektir--> erişimi engelleme\n",
    "\n",
    "class Phone():\n",
    "    def __init__(self,name,price):\n",
    "        self.name=name\n",
    "        self.__price=price #sadece bu classtan erişebilir hale geldi\n",
    "        \n",
    "    def info(self):\n",
    "        print(f\"{self.name} price is: {self.__price} tl\")\n",
    "\n",
    "    def changeprice(self,price):\n",
    "        self.__price=price\n"
   ]
  },
  {
   "cell_type": "code",
   "execution_count": 29,
   "id": "cb160245-1952-47d6-903f-016afa0e294b",
   "metadata": {},
   "outputs": [],
   "source": [
    "iphone=Phone(\"iphone 14\",500)"
   ]
  },
  {
   "cell_type": "code",
   "execution_count": 30,
   "id": "ed9a8ff9-2f1d-4bc9-acdc-781d6cac4d9e",
   "metadata": {},
   "outputs": [
    {
     "name": "stdout",
     "output_type": "stream",
     "text": [
      "iphone 14 price is: 500 tl\n"
     ]
    }
   ],
   "source": [
    "iphone.info()"
   ]
  },
  {
   "cell_type": "code",
   "execution_count": 31,
   "id": "184cefaa-6750-4555-aff4-617ea1548135",
   "metadata": {},
   "outputs": [],
   "source": [
    "iphone.price=400"
   ]
  },
  {
   "cell_type": "code",
   "execution_count": 32,
   "id": "4ece6966-9726-4fbc-8f99-df1ff007caf3",
   "metadata": {},
   "outputs": [
    {
     "name": "stdout",
     "output_type": "stream",
     "text": [
      "iphone 14 price is: 500 tl\n"
     ]
    }
   ],
   "source": [
    "iphone.info()"
   ]
  },
  {
   "cell_type": "code",
   "execution_count": 26,
   "id": "24401d66-eead-440d-ba46-bbb426eac432",
   "metadata": {},
   "outputs": [],
   "source": [
    "iphone.changeprice(700)"
   ]
  },
  {
   "cell_type": "code",
   "execution_count": 33,
   "id": "cbac1f00-8553-41db-8b0a-734c233f3e64",
   "metadata": {},
   "outputs": [
    {
     "name": "stdout",
     "output_type": "stream",
     "text": [
      "iphone 14 price is: 500 tl\n"
     ]
    }
   ],
   "source": [
    "iphone.info()"
   ]
  },
  {
   "cell_type": "code",
   "execution_count": 34,
   "id": "a3887a86-4ce8-4df6-bf50-c7bd33f8a6eb",
   "metadata": {},
   "outputs": [],
   "source": [
    "#ABSTRACTION --->soyutlama"
   ]
  },
  {
   "cell_type": "code",
   "execution_count": 35,
   "id": "2a2b465b-fa28-4846-92e0-779126c68e0b",
   "metadata": {},
   "outputs": [],
   "source": [
    "from abc import ABC, abstractmethod"
   ]
  },
  {
   "cell_type": "code",
   "execution_count": 44,
   "id": "c900d2bc-e137-4d71-8d03-69061c6292ac",
   "metadata": {},
   "outputs": [],
   "source": [
    "class  Car(ABC):\n",
    "    \n",
    "    @abstractmethod\n",
    "    def maxSpeed(self):\n",
    "        pass\n",
    "        \n",
    "    "
   ]
  },
  {
   "cell_type": "code",
   "execution_count": 49,
   "id": "8b924196-73ce-48c9-bc39-8bdea9044982",
   "metadata": {},
   "outputs": [
    {
     "ename": "TypeError",
     "evalue": "Can't instantiate abstract class Car without an implementation for abstract method 'maxSpeed'",
     "output_type": "error",
     "traceback": [
      "\u001b[0;31m---------------------------------------------------------------------------\u001b[0m",
      "\u001b[0;31mTypeError\u001b[0m                                 Traceback (most recent call last)",
      "Cell \u001b[0;32mIn[49], line 1\u001b[0m\n\u001b[0;32m----> 1\u001b[0m mycar\u001b[38;5;241m=\u001b[39mCar()\n",
      "\u001b[0;31mTypeError\u001b[0m: Can't instantiate abstract class Car without an implementation for abstract method 'maxSpeed'"
     ]
    }
   ],
   "source": [
    "#mycar=Car()  hata verir"
   ]
  },
  {
   "cell_type": "code",
   "execution_count": 50,
   "id": "da5c6224-7131-4b15-b8bb-78ae6332636a",
   "metadata": {},
   "outputs": [],
   "source": [
    "class Tesla(Car):\n",
    "    def maxSpeed(self):\n",
    "        print(\"200km\")\n",
    "    pass"
   ]
  },
  {
   "cell_type": "code",
   "execution_count": 51,
   "id": "1fe2fec8-092c-4ae8-98a5-413f311cb84a",
   "metadata": {},
   "outputs": [],
   "source": [
    "tesla=Tesla()"
   ]
  },
  {
   "cell_type": "code",
   "execution_count": 53,
   "id": "e6bba6d1-09a4-4226-88b0-74a49b12f966",
   "metadata": {},
   "outputs": [
    {
     "name": "stdout",
     "output_type": "stream",
     "text": [
      "200km\n"
     ]
    }
   ],
   "source": [
    "tesla.maxSpeed()"
   ]
  },
  {
   "cell_type": "code",
   "execution_count": 54,
   "id": "c9209ec6-b888-41ad-ba5e-cc9cadfe4d79",
   "metadata": {},
   "outputs": [],
   "source": [
    "class Mercedes(Car):\n",
    "    def maxSpee(self):\n",
    "        print(\"300km\")\n",
    "        "
   ]
  },
  {
   "cell_type": "code",
   "execution_count": 55,
   "id": "497582c7-b704-47ce-9fa2-9e0250635946",
   "metadata": {},
   "outputs": [
    {
     "ename": "TypeError",
     "evalue": "Can't instantiate abstract class Mercedes without an implementation for abstract method 'maxSpeed'",
     "output_type": "error",
     "traceback": [
      "\u001b[0;31m---------------------------------------------------------------------------\u001b[0m",
      "\u001b[0;31mTypeError\u001b[0m                                 Traceback (most recent call last)",
      "Cell \u001b[0;32mIn[55], line 1\u001b[0m\n\u001b[0;32m----> 1\u001b[0m mercedes\u001b[38;5;241m=\u001b[39mMercedes()\n",
      "\u001b[0;31mTypeError\u001b[0m: Can't instantiate abstract class Mercedes without an implementation for abstract method 'maxSpeed'"
     ]
    }
   ],
   "source": [
    "# mercedes=Mercedes() hata verir çünkğ içinde maxSpeed yok"
   ]
  },
  {
   "cell_type": "code",
   "execution_count": null,
   "id": "acbb1742-aec8-4b44-8210-9297ec63b71b",
   "metadata": {},
   "outputs": [],
   "source": []
  }
 ],
 "metadata": {
  "kernelspec": {
   "display_name": "Python [conda env:base] *",
   "language": "python",
   "name": "conda-base-py"
  },
  "language_info": {
   "codemirror_mode": {
    "name": "ipython",
    "version": 3
   },
   "file_extension": ".py",
   "mimetype": "text/x-python",
   "name": "python",
   "nbconvert_exporter": "python",
   "pygments_lexer": "ipython3",
   "version": "3.12.7"
  }
 },
 "nbformat": 4,
 "nbformat_minor": 5
}
