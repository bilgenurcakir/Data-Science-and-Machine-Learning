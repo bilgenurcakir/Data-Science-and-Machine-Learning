{
 "cells": [
  {
   "cell_type": "code",
   "execution_count": 1,
   "id": "3301db85-0a63-4c7e-b827-e38811652862",
   "metadata": {},
   "outputs": [
    {
     "data": {
      "text/plain": [
       "10"
      ]
     },
     "execution_count": 1,
     "metadata": {},
     "output_type": "execute_result"
    }
   ],
   "source": [
    "mylist=[10,\"a\",\"b\",3.14]\n",
    "mylist[0]"
   ]
  },
  {
   "cell_type": "code",
   "execution_count": 2,
   "id": "16ebdf9e-e995-43e9-bd3d-4311b868bf8c",
   "metadata": {},
   "outputs": [
    {
     "data": {
      "text/plain": [
       "[100, 'a', 'b', 3.14]"
      ]
     },
     "execution_count": 2,
     "metadata": {},
     "output_type": "execute_result"
    }
   ],
   "source": [
    "mylist[0]=100\n",
    "mylist"
   ]
  },
  {
   "cell_type": "code",
   "execution_count": 3,
   "id": "75dcabdb-eaf0-4425-bb68-5b6dc3d7feab",
   "metadata": {},
   "outputs": [],
   "source": [
    "#tuple\n"
   ]
  },
  {
   "cell_type": "code",
   "execution_count": 5,
   "id": "e663cd2d-b55d-4f37-85f5-fd1f747943d0",
   "metadata": {},
   "outputs": [],
   "source": [
    "mytuple=(10,\"a\",\"b\",3.14)\n"
   ]
  },
  {
   "cell_type": "code",
   "execution_count": 6,
   "id": "95b43b76-88e2-47c7-acb5-b65715db7177",
   "metadata": {},
   "outputs": [
    {
     "data": {
      "text/plain": [
       "10"
      ]
     },
     "execution_count": 6,
     "metadata": {},
     "output_type": "execute_result"
    }
   ],
   "source": [
    "mytuple[0]"
   ]
  },
  {
   "cell_type": "code",
   "execution_count": 13,
   "id": "d74d80f7-6b8d-4aab-b733-c841ba0706cf",
   "metadata": {},
   "outputs": [],
   "source": [
    " #hata verir  mytuple[0]=0 "
   ]
  },
  {
   "cell_type": "code",
   "execution_count": 10,
   "id": "cb1a90f5-daeb-496c-a96c-1129a75f5900",
   "metadata": {},
   "outputs": [
    {
     "data": {
      "text/plain": [
       "1"
      ]
     },
     "execution_count": 10,
     "metadata": {},
     "output_type": "execute_result"
    }
   ],
   "source": [
    "mytuple.count(\"a\")"
   ]
  },
  {
   "cell_type": "code",
   "execution_count": 12,
   "id": "7ee8af5a-f8d2-4215-903b-7d6608841ab3",
   "metadata": {},
   "outputs": [
    {
     "data": {
      "text/plain": [
       "1"
      ]
     },
     "execution_count": 12,
     "metadata": {},
     "output_type": "execute_result"
    }
   ],
   "source": [
    "mytuple.index(\"a\")"
   ]
  },
  {
   "cell_type": "code",
   "execution_count": null,
   "id": "baa6ab07-dd6e-4225-ad11-857c1c9c7483",
   "metadata": {},
   "outputs": [],
   "source": []
  }
 ],
 "metadata": {
  "kernelspec": {
   "display_name": "Python [conda env:base] *",
   "language": "python",
   "name": "conda-base-py"
  },
  "language_info": {
   "codemirror_mode": {
    "name": "ipython",
    "version": 3
   },
   "file_extension": ".py",
   "mimetype": "text/x-python",
   "name": "python",
   "nbconvert_exporter": "python",
   "pygments_lexer": "ipython3",
   "version": "3.12.7"
  }
 },
 "nbformat": 4,
 "nbformat_minor": 5
}
