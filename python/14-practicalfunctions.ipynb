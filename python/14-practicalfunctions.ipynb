{
 "cells": [
  {
   "cell_type": "code",
   "execution_count": 4,
   "id": "c36731d9-070d-4676-aa0f-444cf6c514eb",
   "metadata": {},
   "outputs": [],
   "source": [
    "def dividenum(number):\n",
    "    return number/2"
   ]
  },
  {
   "cell_type": "code",
   "execution_count": 5,
   "id": "7e11832a-1e2b-4d2a-bd84-842be79eb018",
   "metadata": {},
   "outputs": [
    {
     "data": {
      "text/plain": [
       "10.0"
      ]
     },
     "execution_count": 5,
     "metadata": {},
     "output_type": "execute_result"
    }
   ],
   "source": [
    "dividenum(20)"
   ]
  },
  {
   "cell_type": "code",
   "execution_count": 7,
   "id": "4f0917c4-709c-4288-abed-ebfaa9ff93d5",
   "metadata": {},
   "outputs": [],
   "source": [
    "mylist=[3,5,7,10,20,30]"
   ]
  },
  {
   "cell_type": "code",
   "execution_count": 12,
   "id": "6090b7d4-c1cc-4c9b-bce7-f7b6fd10c813",
   "metadata": {},
   "outputs": [
    {
     "name": "stdout",
     "output_type": "stream",
     "text": [
      "[1.5, 2.5, 3.5, 5.0, 10.0, 15.0]\n"
     ]
    }
   ],
   "source": [
    "myresultlist=[]\n",
    "for num in mylist:\n",
    "    myresultlist.append(dividenum(num))\n",
    "print(myresultlist)"
   ]
  },
  {
   "cell_type": "code",
   "execution_count": 13,
   "id": "f22c5e9a-fcd4-4def-a8a2-fc946f386340",
   "metadata": {},
   "outputs": [],
   "source": [
    "#map \n"
   ]
  },
  {
   "cell_type": "code",
   "execution_count": 16,
   "id": "27bf1076-36bb-456a-8958-5654f01ae366",
   "metadata": {},
   "outputs": [
    {
     "data": {
      "text/plain": [
       "[1.5, 2.5, 3.5, 5.0, 10.0, 15.0]"
      ]
     },
     "execution_count": 16,
     "metadata": {},
     "output_type": "execute_result"
    }
   ],
   "source": [
    "list(map(dividenum,mylist))"
   ]
  },
  {
   "cell_type": "code",
   "execution_count": 20,
   "id": "e3dfaae7-bca5-41a4-9bcf-be6e889e7e5b",
   "metadata": {},
   "outputs": [],
   "source": [
    "def controls(string):\n",
    "    return \"Atil\" in string"
   ]
  },
  {
   "cell_type": "code",
   "execution_count": 21,
   "id": "4fedf64d-9860-48e1-8bfc-c5bdd8d537c9",
   "metadata": {},
   "outputs": [
    {
     "data": {
      "text/plain": [
       "True"
      ]
     },
     "execution_count": 21,
     "metadata": {},
     "output_type": "execute_result"
    }
   ],
   "source": [
    "controls(\"Atil samancioğlu\")"
   ]
  },
  {
   "cell_type": "code",
   "execution_count": 23,
   "id": "8b7e37ce-2208-4648-b88e-4fa91ed74a05",
   "metadata": {},
   "outputs": [
    {
     "data": {
      "text/plain": [
       "[False, True, True, False]"
      ]
     },
     "execution_count": 23,
     "metadata": {},
     "output_type": "execute_result"
    }
   ],
   "source": [
    "mystringlist=[\"atil\",\"Atil\",\"Atil samancioğlu\",\"Attas samancıoğlu\"]\n",
    "list(map(controls,mystringlist))"
   ]
  },
  {
   "cell_type": "code",
   "execution_count": 24,
   "id": "e770173e-2a45-449b-b7f8-110095b0cf8f",
   "metadata": {},
   "outputs": [],
   "source": [
    "#filter\n"
   ]
  },
  {
   "cell_type": "code",
   "execution_count": 26,
   "id": "897152e0-56ec-464c-b7d6-d02adf4ce017",
   "metadata": {},
   "outputs": [
    {
     "data": {
      "text/plain": [
       "['Atil', 'Atil samancioğlu']"
      ]
     },
     "execution_count": 26,
     "metadata": {},
     "output_type": "execute_result"
    }
   ],
   "source": [
    "list(filter(controls,mystringlist))"
   ]
  },
  {
   "cell_type": "code",
   "execution_count": 27,
   "id": "0e150698-729b-4f03-a25a-1739b1fc57ae",
   "metadata": {},
   "outputs": [],
   "source": [
    "#lambda\n"
   ]
  },
  {
   "cell_type": "code",
   "execution_count": 28,
   "id": "d56b3aef-db7b-46c9-b9ee-38b951f1a3cd",
   "metadata": {},
   "outputs": [],
   "source": [
    "multiplylambda= lambda num : num*3\n"
   ]
  },
  {
   "cell_type": "code",
   "execution_count": 29,
   "id": "5286bb84-e009-4e84-9682-fe2511de617e",
   "metadata": {},
   "outputs": [
    {
     "data": {
      "text/plain": [
       "60"
      ]
     },
     "execution_count": 29,
     "metadata": {},
     "output_type": "execute_result"
    }
   ],
   "source": [
    "multiplylambda(20)"
   ]
  },
  {
   "cell_type": "code",
   "execution_count": 30,
   "id": "b66fdfe8-f95c-43af-b695-ffa0db975108",
   "metadata": {},
   "outputs": [],
   "source": [
    "numlist=[10,20,30,40]\n"
   ]
  },
  {
   "cell_type": "code",
   "execution_count": 32,
   "id": "f0865c20-5add-42ed-a3ae-db74a461ea95",
   "metadata": {},
   "outputs": [
    {
     "data": {
      "text/plain": [
       "[40, 80, 120, 160]"
      ]
     },
     "execution_count": 32,
     "metadata": {},
     "output_type": "execute_result"
    }
   ],
   "source": [
    "list(map(lambda num:num*4,numlist))"
   ]
  },
  {
   "cell_type": "code",
   "execution_count": null,
   "id": "f0f859ee-05b7-4f70-b730-805ca7631973",
   "metadata": {},
   "outputs": [],
   "source": []
  },
  {
   "cell_type": "code",
   "execution_count": null,
   "id": "87abea8e-e233-45ca-a07a-2c33f2c904e4",
   "metadata": {},
   "outputs": [],
   "source": []
  },
  {
   "cell_type": "code",
   "execution_count": 33,
   "id": "3ab38b31-f36b-45be-b05b-bd9ef209ba2f",
   "metadata": {},
   "outputs": [],
   "source": [
    "#scope-->kapsama "
   ]
  },
  {
   "cell_type": "code",
   "execution_count": 38,
   "id": "466420a8-2980-4e95-97ce-e337cce12a5d",
   "metadata": {},
   "outputs": [],
   "source": [
    "x=20\n",
    "def multiply( num):\n",
    "    x=5\n",
    "    return num*x"
   ]
  },
  {
   "cell_type": "code",
   "execution_count": 39,
   "id": "183b39c4-6bfc-42ac-8bab-3b79ba3ea08c",
   "metadata": {},
   "outputs": [
    {
     "data": {
      "text/plain": [
       "40"
      ]
     },
     "execution_count": 39,
     "metadata": {},
     "output_type": "execute_result"
    }
   ],
   "source": [
    "multiply(8) #xi 5 aldı"
   ]
  },
  {
   "cell_type": "code",
   "execution_count": 41,
   "id": "624aa655-a3a3-4824-86a0-20f276649d28",
   "metadata": {},
   "outputs": [
    {
     "name": "stdout",
     "output_type": "stream",
     "text": [
      "20\n"
     ]
    }
   ],
   "source": [
    "print(x)"
   ]
  },
  {
   "cell_type": "code",
   "execution_count": 43,
   "id": "f6d011e4-fd17-4dc5-8b0a-5c736838cd58",
   "metadata": {},
   "outputs": [],
   "source": [
    "# karar verme mekanizması LEGB LOCAL-> ENDCLOSING-> GLOBAL->BUILT-IN"
   ]
  },
  {
   "cell_type": "code",
   "execution_count": 56,
   "id": "6e2785d0-3c04-460a-9578-1a71d17ceb99",
   "metadata": {},
   "outputs": [],
   "source": [
    " mystring=\"bilge\"\n",
    "#global\n",
    "def myfunction():\n",
    "    #enclosing\n",
    "    mystring=\"çakır\"\n",
    "    print(mystring)\n",
    "    def myfunction2():\n",
    "        #local\n",
    "        mystring=\"zümra\"\n",
    "        print(mystring)\n",
    "    myfunction2()"
   ]
  },
  {
   "cell_type": "code",
   "execution_count": 54,
   "id": "74624322-3c02-4933-b961-40711ed24a32",
   "metadata": {},
   "outputs": [
    {
     "data": {
      "text/plain": [
       "'bilge'"
      ]
     },
     "execution_count": 54,
     "metadata": {},
     "output_type": "execute_result"
    }
   ],
   "source": [
    "mystring"
   ]
  },
  {
   "cell_type": "code",
   "execution_count": 55,
   "id": "9efe0ac9-c6ad-489c-bc53-bb6ec7227c2b",
   "metadata": {},
   "outputs": [
    {
     "name": "stdout",
     "output_type": "stream",
     "text": [
      "çakır\n",
      "zümra\n"
     ]
    }
   ],
   "source": [
    "myfunction()"
   ]
  },
  {
   "cell_type": "code",
   "execution_count": 58,
   "id": "338acd37-c652-4c37-963e-d414f0618673",
   "metadata": {},
   "outputs": [],
   "source": [
    "y=10\n",
    "def newfunc(y):\n",
    "    print(y)\n",
    "    y=5\n",
    "    print(y)\n",
    "    return y"
   ]
  },
  {
   "cell_type": "code",
   "execution_count": 61,
   "id": "0971b4ce-e15b-47b6-a3f5-d04526971067",
   "metadata": {},
   "outputs": [
    {
     "name": "stdout",
     "output_type": "stream",
     "text": [
      "10\n",
      "5\n"
     ]
    },
    {
     "data": {
      "text/plain": [
       "5"
      ]
     },
     "execution_count": 61,
     "metadata": {},
     "output_type": "execute_result"
    }
   ],
   "source": [
    "newfunc(10)"
   ]
  },
  {
   "cell_type": "code",
   "execution_count": 60,
   "id": "822db253-d538-45a8-9e48-28e495e2010f",
   "metadata": {},
   "outputs": [
    {
     "data": {
      "text/plain": [
       "10"
      ]
     },
     "execution_count": 60,
     "metadata": {},
     "output_type": "execute_result"
    }
   ],
   "source": [
    "y"
   ]
  },
  {
   "cell_type": "code",
   "execution_count": 66,
   "id": "1b1a5ad4-48be-4bfd-a485-c921a88b087e",
   "metadata": {},
   "outputs": [],
   "source": [
    "y=10\n",
    "def changeY():\n",
    "    global y\n",
    "    y=5\n",
    "    print(y)"
   ]
  },
  {
   "cell_type": "code",
   "execution_count": 67,
   "id": "f8efe610-e180-4ade-95a2-2a34bc9131a2",
   "metadata": {},
   "outputs": [
    {
     "name": "stdout",
     "output_type": "stream",
     "text": [
      "5\n"
     ]
    }
   ],
   "source": [
    "changeY()"
   ]
  },
  {
   "cell_type": "code",
   "execution_count": 68,
   "id": "97206ffd-03a9-4b31-a389-699d35f5bd09",
   "metadata": {},
   "outputs": [
    {
     "data": {
      "text/plain": [
       "5"
      ]
     },
     "execution_count": 68,
     "metadata": {},
     "output_type": "execute_result"
    }
   ],
   "source": [
    "y"
   ]
  },
  {
   "cell_type": "code",
   "execution_count": null,
   "id": "c8ace182-f19b-4a98-a9cb-1821d18cb340",
   "metadata": {},
   "outputs": [],
   "source": []
  },
  {
   "cell_type": "code",
   "execution_count": null,
   "id": "61be77ce-1894-4c61-bb66-46f39ee49b3e",
   "metadata": {},
   "outputs": [],
   "source": []
  },
  {
   "cell_type": "code",
   "execution_count": null,
   "id": "22bf06a3-af03-44ed-a709-2bbb36d23587",
   "metadata": {},
   "outputs": [],
   "source": []
  }
 ],
 "metadata": {
  "kernelspec": {
   "display_name": "Python [conda env:base] *",
   "language": "python",
   "name": "conda-base-py"
  },
  "language_info": {
   "codemirror_mode": {
    "name": "ipython",
    "version": 3
   },
   "file_extension": ".py",
   "mimetype": "text/x-python",
   "name": "python",
   "nbconvert_exporter": "python",
   "pygments_lexer": "ipython3",
   "version": "3.12.7"
  }
 },
 "nbformat": 4,
 "nbformat_minor": 5
}
