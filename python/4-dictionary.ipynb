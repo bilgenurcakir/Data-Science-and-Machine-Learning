{
 "cells": [
  {
   "cell_type": "code",
   "execution_count": 1,
   "id": "e39f1bed-5946-4f8a-aa79-5a85e16938f2",
   "metadata": {},
   "outputs": [],
   "source": [
    "# key- value pairing  anahtar değer eşleşmesi için kullanılır"
   ]
  },
  {
   "cell_type": "code",
   "execution_count": 2,
   "id": "263b30b0-5693-4ee7-a2ca-dfa33174c23d",
   "metadata": {},
   "outputs": [],
   "source": [
    "fruit_list=[\"banana\",\"apple\"]"
   ]
  },
  {
   "cell_type": "code",
   "execution_count": 12,
   "id": "9b3d3833-a0a5-46a9-b5ce-a7e4ef1af399",
   "metadata": {},
   "outputs": [],
   "source": [
    "calorie_list=[100,150]"
   ]
  },
  {
   "cell_type": "code",
   "execution_count": null,
   "id": "5674adc1-1b42-47ad-94c3-662f0a7358f1",
   "metadata": {},
   "outputs": [],
   "source": []
  },
  {
   "cell_type": "code",
   "execution_count": 7,
   "id": "373544e3-abd5-4e79-9266-27a7310cc4a7",
   "metadata": {},
   "outputs": [],
   "source": [
    "fitness_dictionary={\"banana\":100, \"apple\":150}"
   ]
  },
  {
   "cell_type": "code",
   "execution_count": 8,
   "id": "0dc4a19f-a199-4e70-b3b8-cdc3e4c451f4",
   "metadata": {},
   "outputs": [
    {
     "data": {
      "text/plain": [
       "dict"
      ]
     },
     "execution_count": 8,
     "metadata": {},
     "output_type": "execute_result"
    }
   ],
   "source": [
    "type(fitness_dictionary)"
   ]
  },
  {
   "cell_type": "code",
   "execution_count": 10,
   "id": "e4deb632-f15a-4f6d-b443-6575b9a7d461",
   "metadata": {},
   "outputs": [
    {
     "data": {
      "text/plain": [
       "100"
      ]
     },
     "execution_count": 10,
     "metadata": {},
     "output_type": "execute_result"
    }
   ],
   "source": [
    "fitness_dictionary[\"banana\"]"
   ]
  },
  {
   "cell_type": "code",
   "execution_count": 11,
   "id": "f73438f0-89df-4669-b8b4-1aa5584f0fa8",
   "metadata": {},
   "outputs": [
    {
     "data": {
      "text/plain": [
       "150"
      ]
     },
     "execution_count": 11,
     "metadata": {},
     "output_type": "execute_result"
    }
   ],
   "source": [
    "fitness_dictionary[\"apple\"]"
   ]
  },
  {
   "cell_type": "code",
   "execution_count": 13,
   "id": "917c2bb8-7fca-484d-ae6f-dbbc19956680",
   "metadata": {},
   "outputs": [
    {
     "data": {
      "text/plain": [
       "dict_keys(['banana', 'apple'])"
      ]
     },
     "execution_count": 13,
     "metadata": {},
     "output_type": "execute_result"
    }
   ],
   "source": [
    "fitness_dictionary.keys()"
   ]
  },
  {
   "cell_type": "code",
   "execution_count": 14,
   "id": "68d7adc8-875b-40da-b767-6c7c5f65eedc",
   "metadata": {},
   "outputs": [
    {
     "data": {
      "text/plain": [
       "dict_values([100, 150])"
      ]
     },
     "execution_count": 14,
     "metadata": {},
     "output_type": "execute_result"
    }
   ],
   "source": [
    "fitness_dictionary.values()"
   ]
  },
  {
   "cell_type": "code",
   "execution_count": 15,
   "id": "dd049e9e-ac98-4194-b3bd-5365349901a0",
   "metadata": {},
   "outputs": [
    {
     "data": {
      "text/plain": [
       "dict_values"
      ]
     },
     "execution_count": 15,
     "metadata": {},
     "output_type": "execute_result"
    }
   ],
   "source": [
    "type(fitness_dictionary.values())"
   ]
  },
  {
   "cell_type": "code",
   "execution_count": 16,
   "id": "90814261-f00c-4720-8d68-f4e4a1645e5b",
   "metadata": {},
   "outputs": [
    {
     "data": {
      "text/plain": [
       "[100, 150]"
      ]
     },
     "execution_count": 16,
     "metadata": {},
     "output_type": "execute_result"
    }
   ],
   "source": [
    "list(fitness_dictionary.values())"
   ]
  },
  {
   "cell_type": "code",
   "execution_count": 18,
   "id": "d355a5f6-258d-49d9-aaae-a668bc6f3729",
   "metadata": {},
   "outputs": [
    {
     "data": {
      "text/plain": [
       "{'banana': 100, 'apple': 150}"
      ]
     },
     "execution_count": 18,
     "metadata": {},
     "output_type": "execute_result"
    }
   ],
   "source": [
    "fitness_dictionary"
   ]
  },
  {
   "cell_type": "code",
   "execution_count": 19,
   "id": "010d8a03-c225-469d-9bbd-0a149124e35d",
   "metadata": {},
   "outputs": [],
   "source": [
    "fitness_dictionary[\"banana\"]=200"
   ]
  },
  {
   "cell_type": "code",
   "execution_count": 20,
   "id": "d35e816d-ad19-447e-ad3f-ad626dedfd52",
   "metadata": {},
   "outputs": [
    {
     "data": {
      "text/plain": [
       "{'banana': 200, 'apple': 150}"
      ]
     },
     "execution_count": 20,
     "metadata": {},
     "output_type": "execute_result"
    }
   ],
   "source": [
    "fitness_dictionary"
   ]
  },
  {
   "cell_type": "code",
   "execution_count": 21,
   "id": "eaecf0c6-3768-4521-9056-4f3ea00003b4",
   "metadata": {},
   "outputs": [],
   "source": [
    "fitness_dictionary[\"melon\"]=300"
   ]
  },
  {
   "cell_type": "code",
   "execution_count": 22,
   "id": "e6f20bd9-9ba2-43be-a228-b4e9f1e2da05",
   "metadata": {},
   "outputs": [
    {
     "data": {
      "text/plain": [
       "{'banana': 200, 'apple': 150, 'melon': 300}"
      ]
     },
     "execution_count": 22,
     "metadata": {},
     "output_type": "execute_result"
    }
   ],
   "source": [
    "fitness_dictionary"
   ]
  },
  {
   "cell_type": "code",
   "execution_count": 26,
   "id": "6e427eb7-e2c0-4030-992a-749ee224325a",
   "metadata": {},
   "outputs": [
    {
     "data": {
      "text/plain": [
       "150"
      ]
     },
     "execution_count": 26,
     "metadata": {},
     "output_type": "execute_result"
    }
   ],
   "source": [
    "fitness_dictionary.get(\"apple\",-1) #apple olmasayıdı -1 değeri ver"
   ]
  },
  {
   "cell_type": "code",
   "execution_count": null,
   "id": "74aba18c-9d01-4678-8bbd-f333190fa789",
   "metadata": {},
   "outputs": [],
   "source": []
  },
  {
   "cell_type": "code",
   "execution_count": 25,
   "id": "b33ecb3b-f2ae-4612-8a19-44b5ae561098",
   "metadata": {},
   "outputs": [
    {
     "data": {
      "text/plain": [
       "-1"
      ]
     },
     "execution_count": 25,
     "metadata": {},
     "output_type": "execute_result"
    }
   ],
   "source": [
    "fitness_dictionary.get(\"watermelon\",-1)"
   ]
  },
  {
   "cell_type": "code",
   "execution_count": 28,
   "id": "b095668d-c74f-4913-a865-558d5df627ae",
   "metadata": {},
   "outputs": [
    {
     "data": {
      "text/plain": [
       "'a'"
      ]
     },
     "execution_count": 28,
     "metadata": {},
     "output_type": "execute_result"
    }
   ],
   "source": [
    "my_dictionary={100:\"a\",200:\"b\",300:\"c\"}\n",
    "my_dictionary[100] #ilk yazılan her zaman anahtardır"
   ]
  },
  {
   "cell_type": "code",
   "execution_count": 33,
   "id": "28504f42-bcf3-427d-afee-d2f8b1e30a19",
   "metadata": {},
   "outputs": [],
   "source": [
    "last_dictionary={\"k1\":10,\"k2\":[10,20,30,40],\"k3\":\"string\",\"k4\":{\"a\":100,\"b\":200}}"
   ]
  },
  {
   "cell_type": "code",
   "execution_count": 37,
   "id": "1bde0bab-d8f8-485e-9a0b-2194effd5df5",
   "metadata": {},
   "outputs": [
    {
     "data": {
      "text/plain": [
       "200"
      ]
     },
     "execution_count": 37,
     "metadata": {},
     "output_type": "execute_result"
    }
   ],
   "source": [
    "last_dictionary[\"k4\"][\"b\"]"
   ]
  },
  {
   "cell_type": "code",
   "execution_count": 35,
   "id": "1e7dcc0f-e817-424c-8005-6bbcf0b3477e",
   "metadata": {},
   "outputs": [
    {
     "data": {
      "text/plain": [
       "40"
      ]
     },
     "execution_count": 35,
     "metadata": {},
     "output_type": "execute_result"
    }
   ],
   "source": [
    "last_dictionary[\"k2\"][3]"
   ]
  },
  {
   "cell_type": "code",
   "execution_count": null,
   "id": "54365f27-c1f5-4851-8bca-3d4f11ed636c",
   "metadata": {},
   "outputs": [],
   "source": []
  }
 ],
 "metadata": {
  "kernelspec": {
   "display_name": "Python [conda env:base] *",
   "language": "python",
   "name": "conda-base-py"
  },
  "language_info": {
   "codemirror_mode": {
    "name": "ipython",
    "version": 3
   },
   "file_extension": ".py",
   "mimetype": "text/x-python",
   "name": "python",
   "nbconvert_exporter": "python",
   "pygments_lexer": "ipython3",
   "version": "3.12.7"
  }
 },
 "nbformat": 4,
 "nbformat_minor": 5
}
