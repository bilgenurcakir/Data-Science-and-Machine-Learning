{
 "cells": [
  {
   "cell_type": "code",
   "execution_count": 2,
   "id": "d10dddf4-ae91-4fef-b247-b0f54b574e42",
   "metadata": {},
   "outputs": [],
   "source": [
    "#uniqe elements , unordered -> her elemandan bir adet var,sırası önemli değil"
   ]
  },
  {
   "cell_type": "code",
   "execution_count": 7,
   "id": "708e3ae6-e99e-48f8-9ad6-2c73bef22ec2",
   "metadata": {},
   "outputs": [
    {
     "data": {
      "text/plain": [
       "9"
      ]
     },
     "execution_count": 7,
     "metadata": {},
     "output_type": "execute_result"
    }
   ],
   "source": [
    "mylist=[10,40,30,10,20,40,30,10,20]\n",
    "len(mylist)"
   ]
  },
  {
   "cell_type": "code",
   "execution_count": 8,
   "id": "ff6a08ad-45eb-4591-9686-9a66eb7b7a37",
   "metadata": {},
   "outputs": [],
   "source": [
    "myset=set(mylist)"
   ]
  },
  {
   "cell_type": "code",
   "execution_count": 9,
   "id": "5f277b28-9b15-4dfb-b6cb-274d3080dbc2",
   "metadata": {},
   "outputs": [
    {
     "data": {
      "text/plain": [
       "{10, 20, 30, 40}"
      ]
     },
     "execution_count": 9,
     "metadata": {},
     "output_type": "execute_result"
    }
   ],
   "source": [
    "myset"
   ]
  },
  {
   "cell_type": "code",
   "execution_count": 10,
   "id": "9f2a4071-4619-4b5f-8615-fcfba44ecd12",
   "metadata": {},
   "outputs": [],
   "source": [
    "myset={10,40,30,10,20,40,30,10,20}"
   ]
  },
  {
   "cell_type": "code",
   "execution_count": 11,
   "id": "d0333d88-18a0-4e95-afdc-c89ed6a68050",
   "metadata": {},
   "outputs": [
    {
     "data": {
      "text/plain": [
       "{10, 20, 30, 40}"
      ]
     },
     "execution_count": 11,
     "metadata": {},
     "output_type": "execute_result"
    }
   ],
   "source": [
    "myset"
   ]
  },
  {
   "cell_type": "code",
   "execution_count": 12,
   "id": "bcdd05a4-12d3-41e7-8543-e1cbc82712ca",
   "metadata": {},
   "outputs": [],
   "source": [
    "myset.add(10)"
   ]
  },
  {
   "cell_type": "code",
   "execution_count": 13,
   "id": "f391e0b1-6fc1-4f6e-a9a1-17e8d77dd252",
   "metadata": {},
   "outputs": [
    {
     "data": {
      "text/plain": [
       "{10, 20, 30, 40}"
      ]
     },
     "execution_count": 13,
     "metadata": {},
     "output_type": "execute_result"
    }
   ],
   "source": [
    "myset"
   ]
  },
  {
   "cell_type": "code",
   "execution_count": 14,
   "id": "93fec199-84ed-4e61-8940-95e30963889a",
   "metadata": {},
   "outputs": [
    {
     "data": {
      "text/plain": [
       "{10, 20, 30, 40, 50}"
      ]
     },
     "execution_count": 14,
     "metadata": {},
     "output_type": "execute_result"
    }
   ],
   "source": [
    "myset.add(50)\n",
    "myset"
   ]
  },
  {
   "cell_type": "code",
   "execution_count": 15,
   "id": "349ea1a7-2a4f-4a8d-b23d-89a52dfb2932",
   "metadata": {},
   "outputs": [],
   "source": [
    "myset2={30,40,50,60,70}\n"
   ]
  },
  {
   "cell_type": "code",
   "execution_count": 17,
   "id": "f6cde399-ef32-404c-bb87-a9859dc3fb1e",
   "metadata": {},
   "outputs": [
    {
     "data": {
      "text/plain": [
       "{10, 20, 30, 40, 50, 60, 70}"
      ]
     },
     "execution_count": 17,
     "metadata": {},
     "output_type": "execute_result"
    }
   ],
   "source": [
    "myset.union(myset2) #birleştir"
   ]
  },
  {
   "cell_type": "code",
   "execution_count": 18,
   "id": "7d0816e2-6fbb-405c-a97a-35446992fd57",
   "metadata": {},
   "outputs": [
    {
     "data": {
      "text/plain": [
       "{30, 40, 50}"
      ]
     },
     "execution_count": 18,
     "metadata": {},
     "output_type": "execute_result"
    }
   ],
   "source": [
    "myset.intersection(myset2) #kesişimleri "
   ]
  },
  {
   "cell_type": "code",
   "execution_count": 19,
   "id": "f17d6dc3-5155-43de-be8a-711d911507d3",
   "metadata": {},
   "outputs": [],
   "source": [
    "countrylist=[\"de\",\"fr\",\"tr\",\"fr\",\"tr\",\"de\",\"nl\",\"de\",\"tr\"]"
   ]
  },
  {
   "cell_type": "code",
   "execution_count": 24,
   "id": "efe67f6e-6a0a-4a50-954b-ab67aef09f0b",
   "metadata": {},
   "outputs": [
    {
     "data": {
      "text/plain": [
       "4"
      ]
     },
     "execution_count": 24,
     "metadata": {},
     "output_type": "execute_result"
    }
   ],
   "source": [
    "#kaç ülkeye satış yaptım?\n",
    "len(set(countrylist))"
   ]
  },
  {
   "cell_type": "code",
   "execution_count": null,
   "id": "66c602b4-43df-4391-be53-cd629796e3db",
   "metadata": {},
   "outputs": [],
   "source": []
  },
  {
   "cell_type": "code",
   "execution_count": 25,
   "id": "f70448c4-71d8-453b-873c-3b006d8c8e4a",
   "metadata": {},
   "outputs": [],
   "source": [
    "emptylist=[]"
   ]
  },
  {
   "cell_type": "code",
   "execution_count": 26,
   "id": "93f2af08-f6c3-4676-90b9-a3a127d09bfa",
   "metadata": {},
   "outputs": [],
   "source": [
    "emptylist.append(10)\n",
    "emptylist.append(20)\n",
    "emptylist.append(30)"
   ]
  },
  {
   "cell_type": "code",
   "execution_count": 27,
   "id": "6c2e206a-17dc-4620-a200-beca546dc573",
   "metadata": {},
   "outputs": [
    {
     "data": {
      "text/plain": [
       "[10, 20, 30]"
      ]
     },
     "execution_count": 27,
     "metadata": {},
     "output_type": "execute_result"
    }
   ],
   "source": [
    "emptylist"
   ]
  },
  {
   "cell_type": "code",
   "execution_count": 28,
   "id": "db083d62-30b6-4448-a6a1-7ee0c2039985",
   "metadata": {},
   "outputs": [
    {
     "data": {
      "text/plain": [
       "dict"
      ]
     },
     "execution_count": 28,
     "metadata": {},
     "output_type": "execute_result"
    }
   ],
   "source": [
    "emptyset={}\n",
    "type(emptyset)"
   ]
  },
  {
   "cell_type": "code",
   "execution_count": 29,
   "id": "e7b52d41-bd82-4035-b7de-16cd88672325",
   "metadata": {},
   "outputs": [
    {
     "data": {
      "text/plain": [
       "set"
      ]
     },
     "execution_count": 29,
     "metadata": {},
     "output_type": "execute_result"
    }
   ],
   "source": [
    "emptyset=set()\n",
    "type(emptyset)"
   ]
  },
  {
   "cell_type": "code",
   "execution_count": 30,
   "id": "1b704164-569e-4683-a4ac-e8ab56830b1b",
   "metadata": {},
   "outputs": [
    {
     "data": {
      "text/plain": [
       "type"
      ]
     },
     "execution_count": 30,
     "metadata": {},
     "output_type": "execute_result"
    }
   ],
   "source": [
    "emptylist=list()\n",
    "type(list)"
   ]
  },
  {
   "cell_type": "code",
   "execution_count": 31,
   "id": "462970e8-8d6a-4183-88d8-5afeab69e6d4",
   "metadata": {},
   "outputs": [
    {
     "data": {
      "text/plain": [
       "dict"
      ]
     },
     "execution_count": 31,
     "metadata": {},
     "output_type": "execute_result"
    }
   ],
   "source": [
    "emptydic=dict()\n",
    "type(emptydic)"
   ]
  },
  {
   "cell_type": "code",
   "execution_count": null,
   "id": "94e28e05-5346-43f9-a0d4-dfa8a6360be8",
   "metadata": {},
   "outputs": [],
   "source": []
  }
 ],
 "metadata": {
  "kernelspec": {
   "display_name": "Python [conda env:base] *",
   "language": "python",
   "name": "conda-base-py"
  },
  "language_info": {
   "codemirror_mode": {
    "name": "ipython",
    "version": 3
   },
   "file_extension": ".py",
   "mimetype": "text/x-python",
   "name": "python",
   "nbconvert_exporter": "python",
   "pygments_lexer": "ipython3",
   "version": "3.12.7"
  }
 },
 "nbformat": 4,
 "nbformat_minor": 5
}
