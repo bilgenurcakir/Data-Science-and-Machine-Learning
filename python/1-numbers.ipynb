{
 "cells": [
  {
   "cell_type": "code",
   "execution_count": 5,
   "id": "97f024ff-c03f-4f71-9084-a4c4b7090a26",
   "metadata": {},
   "outputs": [
    {
     "data": {
      "text/plain": [
       "8"
      ]
     },
     "execution_count": 5,
     "metadata": {},
     "output_type": "execute_result"
    }
   ],
   "source": [
    "3+5"
   ]
  },
  {
   "cell_type": "code",
   "execution_count": 1,
   "id": "3a9ab5f5-04c2-40fd-b087-d2e3a7fad555",
   "metadata": {},
   "outputs": [
    {
     "data": {
      "text/plain": [
       "12"
      ]
     },
     "execution_count": 1,
     "metadata": {},
     "output_type": "execute_result"
    }
   ],
   "source": [
    "4*3"
   ]
  },
  {
   "cell_type": "markdown",
   "id": "e956b2f1-3396-4b1f-8da3-a319185f37ec",
   "metadata": {},
   "source": [
    "## variables\n"
   ]
  },
  {
   "cell_type": "code",
   "execution_count": 7,
   "id": "504a9c25-c3e7-446c-b436-e321365e0246",
   "metadata": {},
   "outputs": [],
   "source": [
    " age=50"
   ]
  },
  {
   "cell_type": "code",
   "execution_count": 8,
   "id": "8ab5a8cd-ad75-469d-b92d-8eb20b74f65f",
   "metadata": {},
   "outputs": [
    {
     "data": {
      "text/plain": [
       "25.0"
      ]
     },
     "execution_count": 8,
     "metadata": {},
     "output_type": "execute_result"
    }
   ],
   "source": [
    "age/2"
   ]
  },
  {
   "cell_type": "code",
   "execution_count": 9,
   "id": "ff2622b9-507a-42cb-8640-8948942227c4",
   "metadata": {},
   "outputs": [
    {
     "data": {
      "text/plain": [
       "200"
      ]
     },
     "execution_count": 9,
     "metadata": {},
     "output_type": "execute_result"
    }
   ],
   "source": [
    "age*4"
   ]
  },
  {
   "cell_type": "code",
   "execution_count": null,
   "id": "c73c9c54-0348-4c5b-85d6-4b5ee67dba6a",
   "metadata": {},
   "outputs": [],
   "source": [
    "# data types"
   ]
  },
  {
   "cell_type": "code",
   "execution_count": 15,
   "id": "752d2d78-84fb-471c-862a-6b8c457ffdc6",
   "metadata": {},
   "outputs": [
    {
     "data": {
      "text/plain": [
       "int"
      ]
     },
     "execution_count": 15,
     "metadata": {},
     "output_type": "execute_result"
    }
   ],
   "source": [
    "type (age)"
   ]
  },
  {
   "cell_type": "code",
   "execution_count": 16,
   "id": "8f5e9260-97a7-47ad-8e00-ced390e50d66",
   "metadata": {},
   "outputs": [
    {
     "data": {
      "text/plain": [
       "str"
      ]
     },
     "execution_count": 16,
     "metadata": {},
     "output_type": "execute_result"
    }
   ],
   "source": [
    "type(\"hello\")"
   ]
  },
  {
   "cell_type": "code",
   "execution_count": 18,
   "id": "cc7abd15-b9f1-48a5-bba0-02a4e7498271",
   "metadata": {},
   "outputs": [
    {
     "data": {
      "text/plain": [
       "float"
      ]
     },
     "execution_count": 18,
     "metadata": {},
     "output_type": "execute_result"
    }
   ],
   "source": [
    "type(age *1.0)"
   ]
  },
  {
   "cell_type": "code",
   "execution_count": 19,
   "id": "02afd811-1bce-40ee-82fe-13ae5e0c0370",
   "metadata": {},
   "outputs": [
    {
     "data": {
      "text/plain": [
       "bool"
      ]
     },
     "execution_count": 19,
     "metadata": {},
     "output_type": "execute_result"
    }
   ],
   "source": [
    "type(True)"
   ]
  },
  {
   "cell_type": "code",
   "execution_count": 20,
   "id": "fc272a90-4f64-4ecc-8020-6c0994c1babf",
   "metadata": {},
   "outputs": [
    {
     "data": {
      "text/plain": [
       "int"
      ]
     },
     "execution_count": 20,
     "metadata": {},
     "output_type": "execute_result"
    }
   ],
   "source": [
    "type(-100)"
   ]
  },
  {
   "cell_type": "code",
   "execution_count": null,
   "id": "45140aa4-e8f6-4c9b-8f08-6766109fc72f",
   "metadata": {},
   "outputs": [],
   "source": []
  }
 ],
 "metadata": {
  "kernelspec": {
   "display_name": "Python [conda env:base] *",
   "language": "python",
   "name": "conda-base-py"
  },
  "language_info": {
   "codemirror_mode": {
    "name": "ipython",
    "version": 3
   },
   "file_extension": ".py",
   "mimetype": "text/x-python",
   "name": "python",
   "nbconvert_exporter": "python",
   "pygments_lexer": "ipython3",
   "version": "3.12.7"
  }
 },
 "nbformat": 4,
 "nbformat_minor": 5
}
