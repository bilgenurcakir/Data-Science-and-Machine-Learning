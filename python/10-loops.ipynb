{
 "cells": [
  {
   "cell_type": "code",
   "execution_count": 1,
   "id": "6c1c5275-bf42-410d-904a-50753c3c34e0",
   "metadata": {},
   "outputs": [],
   "source": [
    "#for loop\n"
   ]
  },
  {
   "cell_type": "code",
   "execution_count": 3,
   "id": "1f6ea29e-e429-4731-8c24-41224058e7fa",
   "metadata": {},
   "outputs": [],
   "source": [
    "mylist=[10,20,30,40,50,60]"
   ]
  },
  {
   "cell_type": "code",
   "execution_count": 9,
   "id": "e99e6048-6ecd-4a0e-b3a5-a4662336fcb4",
   "metadata": {},
   "outputs": [
    {
     "name": "stdout",
     "output_type": "stream",
     "text": [
      "for loop started\n",
      "5.0\n",
      "10.0\n",
      "15.0\n",
      "20.0\n",
      "25.0\n",
      "30.0\n",
      "for loop ended\n"
     ]
    }
   ],
   "source": [
    "print(\"for loop started\")\n",
    "for number in mylist:\n",
    "    print(number/2)\n",
    "print(\"for loop ended\")"
   ]
  },
  {
   "cell_type": "code",
   "execution_count": 11,
   "id": "3e98a0a6-1251-4220-b6ba-6e305ec8b0f8",
   "metadata": {},
   "outputs": [
    {
     "name": "stdout",
     "output_type": "stream",
     "text": [
      "30\n",
      "60\n"
     ]
    }
   ],
   "source": [
    "# 6ya tam bölünenleri yazdır\n",
    "\n",
    "for num in mylist:\n",
    "    if num % 6 == 0:\n",
    "        print(num)"
   ]
  },
  {
   "cell_type": "code",
   "execution_count": 12,
   "id": "85ccafa5-80be-4602-bd1d-073301ef5b56",
   "metadata": {},
   "outputs": [
    {
     "name": "stdout",
     "output_type": "stream",
     "text": [
      "b\n",
      "i\n",
      "l\n",
      "g\n",
      "e\n",
      "n\n",
      "u\n",
      "r\n",
      " \n",
      "ç\n",
      "a\n",
      "k\n",
      "ı\n",
      "r\n"
     ]
    }
   ],
   "source": [
    " my_string=\"bilgenur çakır\"\n",
    "\n",
    "for c in my_string:\n",
    "    print(c)"
   ]
  },
  {
   "cell_type": "code",
   "execution_count": 13,
   "id": "639910f0-8047-4ac7-9586-68f3f1075276",
   "metadata": {},
   "outputs": [
    {
     "name": "stdout",
     "output_type": "stream",
     "text": [
      "0.25\n",
      "0.5\n",
      "0.75\n",
      "1.0\n",
      "1.25\n",
      "1.5\n",
      "1.75\n"
     ]
    }
   ],
   "source": [
    "mytuple=(1,2,3,4,5,6,7)\n",
    "\n",
    "for num in mytuple:\n",
    "    print(num/4)"
   ]
  },
  {
   "cell_type": "code",
   "execution_count": 14,
   "id": "29508713-3ed8-4742-89db-78f39eeed319",
   "metadata": {},
   "outputs": [
    {
     "data": {
      "text/plain": [
       "4"
      ]
     },
     "execution_count": 14,
     "metadata": {},
     "output_type": "execute_result"
    }
   ],
   "source": [
    "mynewlist=[(\"a\",\"b\"),(\"c\",\"d\"),(\"e\",\"f\"),(\"g\",\"h\")]\n",
    "len(mynewlist)"
   ]
  },
  {
   "cell_type": "code",
   "execution_count": 15,
   "id": "df511c3b-5f34-4b88-8a22-2dcc800ec940",
   "metadata": {},
   "outputs": [
    {
     "name": "stdout",
     "output_type": "stream",
     "text": [
      "('a', 'b')\n",
      "('c', 'd')\n",
      "('e', 'f')\n",
      "('g', 'h')\n"
     ]
    }
   ],
   "source": [
    "for element in mynewlist:\n",
    "    print(element)"
   ]
  },
  {
   "cell_type": "code",
   "execution_count": 16,
   "id": "558beec0-1db6-4cb9-ac8a-06e6b7c7762e",
   "metadata": {},
   "outputs": [],
   "source": [
    "#tuple unpacking"
   ]
  },
  {
   "cell_type": "code",
   "execution_count": 19,
   "id": "a06d86f2-4ff9-4126-ab1b-61655c88eafe",
   "metadata": {},
   "outputs": [
    {
     "name": "stdout",
     "output_type": "stream",
     "text": [
      "a\n",
      "c\n",
      "e\n",
      "g\n"
     ]
    }
   ],
   "source": [
    "for (x,y) in mynewlist:\n",
    "    print(x)\n"
   ]
  },
  {
   "cell_type": "code",
   "execution_count": 20,
   "id": "6c121eab-2b19-4cb5-b725-e2ec043eb53d",
   "metadata": {},
   "outputs": [
    {
     "name": "stdout",
     "output_type": "stream",
     "text": [
      "k1\n",
      "k2\n",
      "k3\n"
     ]
    }
   ],
   "source": [
    "mydic={\"k1\":100,\"k2\":200,\"k3\":300}\n",
    "for element in mydic:\n",
    "    print(element)"
   ]
  },
  {
   "cell_type": "code",
   "execution_count": 23,
   "id": "0eedcb16-11ef-4eb9-a842-f1652a3519fb",
   "metadata": {},
   "outputs": [
    {
     "name": "stdout",
     "output_type": "stream",
     "text": [
      "100\n",
      "200\n",
      "300\n"
     ]
    }
   ],
   "source": [
    "for key,value in mydic.items():\n",
    "    print(value)"
   ]
  },
  {
   "cell_type": "code",
   "execution_count": 24,
   "id": "57d6e1ad-fbbd-4b5a-ae3c-838091e01415",
   "metadata": {},
   "outputs": [
    {
     "name": "stdout",
     "output_type": "stream",
     "text": [
      "100\n",
      "200\n",
      "300\n"
     ]
    }
   ],
   "source": [
    "for num in mydic.values():\n",
    "    print(num)"
   ]
  },
  {
   "cell_type": "code",
   "execution_count": null,
   "id": "216d7668-f673-41b8-b6a1-9c116fb724e5",
   "metadata": {},
   "outputs": [],
   "source": []
  },
  {
   "cell_type": "code",
   "execution_count": 30,
   "id": "0e0a1dd2-41a0-4e6f-82b4-5b70e8dc1d6b",
   "metadata": {},
   "outputs": [
    {
     "name": "stdout",
     "output_type": "stream",
     "text": [
      "for loop started\n",
      "10\n",
      "20\n",
      "30\n",
      "40\n",
      "founded\n",
      "for loop ended\n"
     ]
    }
   ],
   "source": [
    "mylist=[10,20,30,40,50,60]\n",
    "print(\"for loop started\")\n",
    "for num in mylist:\n",
    "    print(num)\n",
    "    if num==40:\n",
    "        print(\"founded\")\n",
    "        break\n",
    "print(\"for loop ended\")"
   ]
  },
  {
   "cell_type": "code",
   "execution_count": 37,
   "id": "c2689ca7-d8b0-4089-af92-a85f7309e1aa",
   "metadata": {},
   "outputs": [
    {
     "name": "stdout",
     "output_type": "stream",
     "text": [
      "10\n",
      "20\n",
      "40\n",
      "50\n",
      "60\n"
     ]
    }
   ],
   "source": [
    "for num in mylist:\n",
    "    if num==30:\n",
    "        continue #bundan sonrakini çalıştırma üstteki donguye devam et,30 u atladı\n",
    "    print(num)\n",
    "         "
   ]
  },
  {
   "cell_type": "code",
   "execution_count": null,
   "id": "22696c61-d13b-4cbe-a02e-534dbaac414e",
   "metadata": {},
   "outputs": [],
   "source": []
  },
  {
   "cell_type": "code",
   "execution_count": 40,
   "id": "b079d575-9ee1-4598-a56b-7c50e2f1c682",
   "metadata": {},
   "outputs": [],
   "source": [
    "for num in mylist:\n",
    "    pass #sonrasında  kodu düzeltmek için kullanırız."
   ]
  },
  {
   "cell_type": "code",
   "execution_count": 41,
   "id": "e8198ae3-49ca-4584-8c2e-694c3cab36ce",
   "metadata": {},
   "outputs": [],
   "source": [
    "# While loop\n"
   ]
  },
  {
   "cell_type": "code",
   "execution_count": 43,
   "id": "29795ea3-9e17-4aee-bcc0-08e0aeb7e9a1",
   "metadata": {},
   "outputs": [
    {
     "name": "stdout",
     "output_type": "stream",
     "text": [
      "0\n",
      "1\n",
      "2\n",
      "3\n",
      "4\n",
      "5\n",
      "6\n",
      "7\n",
      "8\n",
      "9\n"
     ]
    }
   ],
   "source": [
    "x=0\n",
    "\n",
    "while x<10:\n",
    "    print(x)\n",
    "    x=x+1\n",
    "    "
   ]
  },
  {
   "cell_type": "code",
   "execution_count": 54,
   "id": "8fba2f26-7da9-4db0-943b-d8a46d2d8c83",
   "metadata": {},
   "outputs": [],
   "source": [
    "lastlist=[1,2,3,4,5,6,7]"
   ]
  },
  {
   "cell_type": "code",
   "execution_count": null,
   "id": "030d2958-6b4c-4de0-970d-4e16dce33dd7",
   "metadata": {},
   "outputs": [],
   "source": []
  },
  {
   "cell_type": "code",
   "execution_count": 53,
   "id": "badb22de-e17c-458b-be28-f4778acbed15",
   "metadata": {},
   "outputs": [
    {
     "name": "stdout",
     "output_type": "stream",
     "text": [
      "2 listede hala\n",
      "2 listede hala\n",
      "2 listede hala\n",
      "2 listede hala\n",
      "2 listede hala\n",
      "2 listede hala\n"
     ]
    }
   ],
   "source": [
    "while 2 in lastlist:\n",
    "    print(\"2 listede hala\")\n",
    "    lastlist.pop()"
   ]
  },
  {
   "cell_type": "code",
   "execution_count": 56,
   "id": "eed8394b-8d93-4f18-b28d-7a6af4362c61",
   "metadata": {},
   "outputs": [
    {
     "name": "stdout",
     "output_type": "stream",
     "text": [
      "my last list: [1, 2, 3, 4, 5, 6, 7]\n"
     ]
    }
   ],
   "source": [
    "print(f\"my last list: {lastlist}\")"
   ]
  },
  {
   "cell_type": "code",
   "execution_count": 58,
   "id": "5305d8d0-e24a-4d31-a4a0-3679167f59c1",
   "metadata": {},
   "outputs": [
    {
     "name": "stdin",
     "output_type": "stream",
     "text": [
      "enter name ilge\n"
     ]
    },
    {
     "name": "stdout",
     "output_type": "stream",
     "text": [
      "welcome: ilge\n",
      "welcome:  ilge\n"
     ]
    }
   ],
   "source": [
    "name=input(\"enter name\")\n",
    "print(f\"welcome: {name}\")\n",
    "print(\"welcome: \",name)"
   ]
  },
  {
   "cell_type": "code",
   "execution_count": null,
   "id": "7890dbdc-f928-489f-9d85-08b675538ea1",
   "metadata": {},
   "outputs": [],
   "source": []
  },
  {
   "cell_type": "code",
   "execution_count": 59,
   "id": "c980771a-72a8-4693-b950-e04fab6384d8",
   "metadata": {},
   "outputs": [
    {
     "name": "stdout",
     "output_type": "stream",
     "text": [
      "value of p:0\n",
      "value of p:1\n",
      "value of p:2\n",
      "value of p:3\n",
      "value of p:4\n",
      "value of p:5\n",
      "value of p:6\n",
      "value of p:7\n",
      "value of p:8\n",
      "value of p:9\n",
      "value of p:10\n",
      "value of p:11\n",
      "value of p:12\n",
      "value of p:13\n",
      "value of p:14\n",
      "value of p:15\n",
      "value of p:16\n",
      "value of p:17\n",
      "value of p:18\n",
      "value of p:19\n"
     ]
    }
   ],
   "source": [
    "p=0\n",
    "while p<20:\n",
    "    print(f\"value of p:{p}\")\n",
    "    p+=1"
   ]
  },
  {
   "cell_type": "code",
   "execution_count": null,
   "id": "6a971bfd-cf12-4c7d-8caf-db02f9657b50",
   "metadata": {},
   "outputs": [],
   "source": []
  },
  {
   "cell_type": "code",
   "execution_count": null,
   "id": "65712480-d84c-4980-aec7-ddc5ef330f22",
   "metadata": {},
   "outputs": [],
   "source": []
  }
 ],
 "metadata": {
  "kernelspec": {
   "display_name": "Python [conda env:base] *",
   "language": "python",
   "name": "conda-base-py"
  },
  "language_info": {
   "codemirror_mode": {
    "name": "ipython",
    "version": 3
   },
   "file_extension": ".py",
   "mimetype": "text/x-python",
   "name": "python",
   "nbconvert_exporter": "python",
   "pygments_lexer": "ipython3",
   "version": "3.12.7"
  }
 },
 "nbformat": 4,
 "nbformat_minor": 5
}
