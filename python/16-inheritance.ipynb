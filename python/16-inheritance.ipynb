{
 "cells": [
  {
   "cell_type": "code",
   "execution_count": 1,
   "id": "62f5aab5-1cef-4856-b0f5-5dbb2044bae6",
   "metadata": {},
   "outputs": [],
   "source": [
    "# INHERITANCE --- KALITIM ALMA"
   ]
  },
  {
   "cell_type": "code",
   "execution_count": 14,
   "id": "963bf641-bf6c-444a-b1ba-c7eb17a1d65d",
   "metadata": {},
   "outputs": [],
   "source": [
    "class Musician():\n",
    "    def __init__(self,name):\n",
    "        self.name=name\n",
    "        print(\"musician class\")\n",
    "        \n",
    "    def Test1(self):\n",
    "        print(\"test1\")\n",
    "        \n",
    "    def Test2(self):\n",
    "        print(\"test2\")\n",
    "        "
   ]
  },
  {
   "cell_type": "code",
   "execution_count": 15,
   "id": "5c5b5271-df80-409f-a220-bb132e1a30a6",
   "metadata": {},
   "outputs": [
    {
     "name": "stdout",
     "output_type": "stream",
     "text": [
      "musician class\n"
     ]
    }
   ],
   "source": [
    "atil= Musician(\"Atil\")"
   ]
  },
  {
   "cell_type": "code",
   "execution_count": 16,
   "id": "48873998-d553-49e3-896c-2f7b68d5f490",
   "metadata": {},
   "outputs": [
    {
     "data": {
      "text/plain": [
       "'Atil'"
      ]
     },
     "execution_count": 16,
     "metadata": {},
     "output_type": "execute_result"
    }
   ],
   "source": [
    "atil.name"
   ]
  },
  {
   "cell_type": "code",
   "execution_count": 17,
   "id": "5a9f5dad-f231-420d-a5ec-2f62d6fb59f9",
   "metadata": {},
   "outputs": [
    {
     "name": "stdout",
     "output_type": "stream",
     "text": [
      "test1\n"
     ]
    }
   ],
   "source": [
    "atil.Test1()"
   ]
  },
  {
   "cell_type": "code",
   "execution_count": 18,
   "id": "ee3df7e9-5d20-484e-8084-9faeacd41fd5",
   "metadata": {},
   "outputs": [
    {
     "name": "stdout",
     "output_type": "stream",
     "text": [
      "test2\n"
     ]
    }
   ],
   "source": [
    "atil.Test2()"
   ]
  },
  {
   "cell_type": "code",
   "execution_count": 49,
   "id": "3a4709fb-1205-4a7f-bd0f-85b4c36bc2ac",
   "metadata": {},
   "outputs": [],
   "source": [
    "class MusicianPlus(Musician):\n",
    "    def __init__(self,name):\n",
    "        Musician.__init__(self,name)\n",
    "        print(\"musician plus\")\n",
    "        \n",
    "    def test3(self):\n",
    "        print(\"test3\")\n",
    "        \n",
    "    #override    \n",
    "    def Test1(self):\n",
    "        print(\"changed test1\")\n",
    "\n",
    "\n",
    "\n",
    "\n",
    "\n",
    "    "
   ]
  },
  {
   "cell_type": "code",
   "execution_count": 43,
   "id": "f5579529-7ad1-4c18-9bb4-ee01acfded39",
   "metadata": {},
   "outputs": [
    {
     "name": "stdout",
     "output_type": "stream",
     "text": [
      "musician class\n",
      "musician plus\n"
     ]
    }
   ],
   "source": [
    "bilge=MusicianPlus(\"Bilgenur\")"
   ]
  },
  {
   "cell_type": "code",
   "execution_count": 44,
   "id": "514533d8-c7b8-4ba4-8413-7e69cc00cc1b",
   "metadata": {},
   "outputs": [
    {
     "name": "stdout",
     "output_type": "stream",
     "text": [
      "changed test1\n"
     ]
    }
   ],
   "source": [
    "bilge.Test1()"
   ]
  },
  {
   "cell_type": "code",
   "execution_count": 45,
   "id": "81ad038e-4b83-4aa8-90b7-bc0a6e3d6719",
   "metadata": {},
   "outputs": [
    {
     "name": "stdout",
     "output_type": "stream",
     "text": [
      "test2\n"
     ]
    }
   ],
   "source": [
    "bilge.Test2()"
   ]
  },
  {
   "cell_type": "code",
   "execution_count": 46,
   "id": "6a4992a1-b418-4bbf-ab2d-e8a401fed3e1",
   "metadata": {},
   "outputs": [
    {
     "data": {
      "text/plain": [
       "__main__.MusicianPlus"
      ]
     },
     "execution_count": 46,
     "metadata": {},
     "output_type": "execute_result"
    }
   ],
   "source": [
    "type(bilge)"
   ]
  },
  {
   "cell_type": "code",
   "execution_count": 47,
   "id": "6cff76bb-c6ef-4f1c-9248-6918e60e6067",
   "metadata": {},
   "outputs": [
    {
     "name": "stdout",
     "output_type": "stream",
     "text": [
      "test3\n"
     ]
    }
   ],
   "source": [
    "bilge.test3()"
   ]
  },
  {
   "cell_type": "code",
   "execution_count": 48,
   "id": "0fa1d9c0-b0b4-41d4-8462-c228a6db3ffa",
   "metadata": {},
   "outputs": [
    {
     "name": "stdout",
     "output_type": "stream",
     "text": [
      "changed test1\n"
     ]
    }
   ],
   "source": [
    "bilge.Test1()"
   ]
  },
  {
   "cell_type": "code",
   "execution_count": null,
   "id": "4777f3f5-c94b-41d8-a154-0a6e331162d1",
   "metadata": {},
   "outputs": [],
   "source": []
  },
  {
   "cell_type": "code",
   "execution_count": null,
   "id": "0af9105b-ba52-4660-8107-b66946851142",
   "metadata": {},
   "outputs": [],
   "source": []
  }
 ],
 "metadata": {
  "kernelspec": {
   "display_name": "Python [conda env:base] *",
   "language": "python",
   "name": "conda-base-py"
  },
  "language_info": {
   "codemirror_mode": {
    "name": "ipython",
    "version": 3
   },
   "file_extension": ".py",
   "mimetype": "text/x-python",
   "name": "python",
   "nbconvert_exporter": "python",
   "pygments_lexer": "ipython3",
   "version": "3.12.7"
  }
 },
 "nbformat": 4,
 "nbformat_minor": 5
}
