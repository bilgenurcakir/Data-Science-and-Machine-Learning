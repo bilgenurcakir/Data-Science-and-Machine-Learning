{
 "cells": [
  {
   "cell_type": "code",
   "execution_count": 9,
   "id": "11dff411-3391-48dd-aef2-14bf5e4bc1a1",
   "metadata": {},
   "outputs": [
    {
     "name": "stdin",
     "output_type": "stream",
     "text": [
      "enter age: 34\n"
     ]
    }
   ],
   "source": [
    "age=input(\"enter age:\")"
   ]
  },
  {
   "cell_type": "code",
   "execution_count": 10,
   "id": "8d5ac9e7-10f1-4963-8100-1dfe79db1f4e",
   "metadata": {},
   "outputs": [
    {
     "data": {
      "text/plain": [
       "'34'"
      ]
     },
     "execution_count": 10,
     "metadata": {},
     "output_type": "execute_result"
    }
   ],
   "source": [
    "age"
   ]
  },
  {
   "cell_type": "code",
   "execution_count": 11,
   "id": "c157c7c2-83c3-433c-ba4f-3eb1ef897a3c",
   "metadata": {},
   "outputs": [
    {
     "data": {
      "text/plain": [
       "102"
      ]
     },
     "execution_count": 11,
     "metadata": {},
     "output_type": "execute_result"
    }
   ],
   "source": [
    "int(age)*3"
   ]
  },
  {
   "cell_type": "code",
   "execution_count": 8,
   "id": "d2c4a0d3-8782-4711-96b9-a2c36879efbf",
   "metadata": {},
   "outputs": [],
   "source": [
    "#try - except "
   ]
  },
  {
   "cell_type": "code",
   "execution_count": 8,
   "id": "1365bcb1-5e69-492b-aeeb-b8406b758233",
   "metadata": {},
   "outputs": [
    {
     "name": "stdin",
     "output_type": "stream",
     "text": [
      "enter age: 2\n"
     ]
    },
    {
     "name": "stdout",
     "output_type": "stream",
     "text": [
      "4\n",
      " her döngü sonunda çalışır\n"
     ]
    }
   ],
   "source": [
    "while True:\n",
    "    try:\n",
    "        myage=int(input(\"enter age:\"))\n",
    "        print(myage*2)\n",
    "        break\n",
    "    except :\n",
    "        print(\"enter your age!!\") \n",
    "   # else:\n",
    "       # print(\"else executed\")\n",
    "       # break\n",
    "    finally:\n",
    "        print(\" her döngü sonunda çalışır\")"
   ]
  },
  {
   "cell_type": "code",
   "execution_count": null,
   "id": "d3da8cbc-521e-4d82-a392-f27db8ee2c81",
   "metadata": {},
   "outputs": [],
   "source": []
  },
  {
   "cell_type": "code",
   "execution_count": null,
   "id": "7e324910-3b69-40bf-b00d-5d09b8128143",
   "metadata": {},
   "outputs": [],
   "source": []
  },
  {
   "cell_type": "code",
   "execution_count": null,
   "id": "dcfda375-c57a-49c2-a3e2-42374df22463",
   "metadata": {},
   "outputs": [],
   "source": []
  },
  {
   "cell_type": "code",
   "execution_count": null,
   "id": "6d36f332-7fe4-4855-990a-a90244a0eb63",
   "metadata": {},
   "outputs": [],
   "source": []
  },
  {
   "cell_type": "code",
   "execution_count": null,
   "id": "4e766f5c-4c08-4d31-a9df-a123290f26c0",
   "metadata": {},
   "outputs": [],
   "source": []
  }
 ],
 "metadata": {
  "kernelspec": {
   "display_name": "Python [conda env:base] *",
   "language": "python",
   "name": "conda-base-py"
  },
  "language_info": {
   "codemirror_mode": {
    "name": "ipython",
    "version": 3
   },
   "file_extension": ".py",
   "mimetype": "text/x-python",
   "name": "python",
   "nbconvert_exporter": "python",
   "pygments_lexer": "ipython3",
   "version": "3.12.7"
  }
 },
 "nbformat": 4,
 "nbformat_minor": 5
}
