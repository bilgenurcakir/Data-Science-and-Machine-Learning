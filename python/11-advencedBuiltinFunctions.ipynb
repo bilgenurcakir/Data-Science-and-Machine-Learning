{
 "cells": [
  {
   "cell_type": "code",
   "execution_count": 1,
   "id": "e27a6580-45aa-42c2-8f2a-4179e3f11171",
   "metadata": {},
   "outputs": [
    {
     "name": "stdout",
     "output_type": "stream",
     "text": [
      "5.0\n",
      "10.0\n",
      "15.0\n",
      "20.0\n",
      "25.0\n",
      "30.0\n",
      "35.0\n"
     ]
    }
   ],
   "source": [
    "mylist=[10,20,30,40,50,60,70]\n",
    "for num in mylist:\n",
    "    print(num/2)"
   ]
  },
  {
   "cell_type": "code",
   "execution_count": 2,
   "id": "60325a61-4ebd-4f60-92be-9b3522cae0a9",
   "metadata": {},
   "outputs": [],
   "source": [
    "#range\n"
   ]
  },
  {
   "cell_type": "code",
   "execution_count": 4,
   "id": "70fd8260-2de8-4ef4-8214-56b61f7cec1e",
   "metadata": {},
   "outputs": [
    {
     "data": {
      "text/plain": [
       "range(0, 10)"
      ]
     },
     "execution_count": 4,
     "metadata": {},
     "output_type": "execute_result"
    }
   ],
   "source": [
    "range(10)"
   ]
  },
  {
   "cell_type": "code",
   "execution_count": 6,
   "id": "a0a6764e-bb18-4ffb-8f05-0c615dfc02c0",
   "metadata": {},
   "outputs": [
    {
     "data": {
      "text/plain": [
       "[0, 1, 2, 3, 4, 5, 6, 7, 8, 9]"
      ]
     },
     "execution_count": 6,
     "metadata": {},
     "output_type": "execute_result"
    }
   ],
   "source": [
    "list(range(10))"
   ]
  },
  {
   "cell_type": "code",
   "execution_count": 8,
   "id": "d92f25e7-996e-41d3-a796-c6409c78ea19",
   "metadata": {},
   "outputs": [
    {
     "name": "stdout",
     "output_type": "stream",
     "text": [
      "0\n",
      "2\n",
      "4\n",
      "6\n",
      "8\n",
      "10\n",
      "12\n",
      "14\n",
      "16\n",
      "18\n",
      "20\n",
      "22\n",
      "24\n",
      "26\n",
      "28\n",
      "30\n",
      "32\n",
      "34\n",
      "36\n",
      "38\n"
     ]
    }
   ],
   "source": [
    "for num in list(range(20)):\n",
    "    print(num*2)\n"
   ]
  },
  {
   "cell_type": "code",
   "execution_count": 9,
   "id": "de6e9499-a9af-4c81-b30b-7df6628ca87b",
   "metadata": {},
   "outputs": [
    {
     "data": {
      "text/plain": [
       "[5, 6, 7, 8, 9, 10, 11, 12, 13, 14, 15, 16, 17, 18, 19, 20, 21, 22, 23, 24]"
      ]
     },
     "execution_count": 9,
     "metadata": {},
     "output_type": "execute_result"
    }
   ],
   "source": [
    "list(range(5,25))"
   ]
  },
  {
   "cell_type": "code",
   "execution_count": 10,
   "id": "f0c66652-df67-4687-ab2a-fb4bc35ccc2f",
   "metadata": {},
   "outputs": [
    {
     "data": {
      "text/plain": [
       "[3, 5, 7, 9, 11, 13, 15, 17, 19]"
      ]
     },
     "execution_count": 10,
     "metadata": {},
     "output_type": "execute_result"
    }
   ],
   "source": [
    "list(range(3,20,2))"
   ]
  },
  {
   "cell_type": "code",
   "execution_count": 16,
   "id": "84b11920-1541-4a48-b7c2-af231810dfcd",
   "metadata": {},
   "outputs": [
    {
     "name": "stdout",
     "output_type": "stream",
     "text": [
      "0\n",
      "1\n",
      "2\n",
      "3\n",
      "4\n"
     ]
    }
   ],
   "source": [
    "mylist=[20,30,40,50,60]\n",
    "for ix in range(len(mylist)):\n",
    "    print(ix)"
   ]
  },
  {
   "cell_type": "code",
   "execution_count": 19,
   "id": "85b2e0e7-799f-4ed5-9189-d6bfaf6411b7",
   "metadata": {},
   "outputs": [
    {
     "name": "stdout",
     "output_type": "stream",
     "text": [
      "20\n",
      "30\n",
      "40\n",
      "50\n",
      "60\n"
     ]
    }
   ],
   "source": [
    "for ix in range(len(mylist)):\n",
    "    print(mylist[ix])"
   ]
  },
  {
   "cell_type": "code",
   "execution_count": 20,
   "id": "0001f8a0-36a1-49f3-b9de-2e418cc284f4",
   "metadata": {},
   "outputs": [],
   "source": [
    "#enumerate"
   ]
  },
  {
   "cell_type": "code",
   "execution_count": 21,
   "id": "60a41309-5e28-4996-84c1-dbd299fa3ece",
   "metadata": {},
   "outputs": [
    {
     "name": "stdout",
     "output_type": "stream",
     "text": [
      "(0, 20)\n",
      "(1, 30)\n",
      "(2, 40)\n",
      "(3, 50)\n",
      "(4, 60)\n"
     ]
    }
   ],
   "source": [
    "for element in enumerate (mylist):\n",
    "    print(element)"
   ]
  },
  {
   "cell_type": "code",
   "execution_count": 22,
   "id": "24edbee6-4153-4d77-90e9-0ccba2414ca7",
   "metadata": {},
   "outputs": [
    {
     "name": "stdout",
     "output_type": "stream",
     "text": [
      "0\n",
      "1\n",
      "2\n",
      "3\n",
      "4\n"
     ]
    }
   ],
   "source": [
    "for (ix,value)in enumerate(mylist):\n",
    "    print(ix)"
   ]
  },
  {
   "cell_type": "code",
   "execution_count": 54,
   "id": "1d5c2840-0cf7-4120-9ff6-b0c84fbaef58",
   "metadata": {},
   "outputs": [],
   "source": [
    "#random\n"
   ]
  },
  {
   "cell_type": "code",
   "execution_count": 24,
   "id": "7506d5ad-a8c3-465e-b083-96d940883646",
   "metadata": {},
   "outputs": [],
   "source": [
    "from random import randint"
   ]
  },
  {
   "cell_type": "code",
   "execution_count": 35,
   "id": "11d8817e-6dd8-4c2d-a7b3-5ce5313f946f",
   "metadata": {},
   "outputs": [
    {
     "data": {
      "text/plain": [
       "43"
      ]
     },
     "execution_count": 35,
     "metadata": {},
     "output_type": "execute_result"
    }
   ],
   "source": [
    "randint(0,100)"
   ]
  },
  {
   "cell_type": "code",
   "execution_count": 37,
   "id": "22b5cf32-f492-4b71-a0d9-98f642a92b9c",
   "metadata": {},
   "outputs": [],
   "source": [
    "from random import shuffle"
   ]
  },
  {
   "cell_type": "code",
   "execution_count": 51,
   "id": "54b0354b-714e-4aa2-82c7-d59ebb579787",
   "metadata": {},
   "outputs": [
    {
     "data": {
      "text/plain": [
       "[20, 50, 40, 60, 30]"
      ]
     },
     "execution_count": 51,
     "metadata": {},
     "output_type": "execute_result"
    }
   ],
   "source": [
    "shuffle(mylist)\n",
    "mylist"
   ]
  },
  {
   "cell_type": "code",
   "execution_count": 53,
   "id": "e687b6d8-9044-4697-972f-4755f080755f",
   "metadata": {},
   "outputs": [],
   "source": [
    "#zip\n"
   ]
  },
  {
   "cell_type": "code",
   "execution_count": 55,
   "id": "4097a0a4-a100-4d90-8042-8a1b8fb13c35",
   "metadata": {},
   "outputs": [],
   "source": [
    "foodlist=[\"apple\",\"banana\",\"melon\"]\n",
    "calorilist=[100,150,200]\n",
    "daylist=[\"monday\",\"tuesday\",\"wednesday\"]"
   ]
  },
  {
   "cell_type": "code",
   "execution_count": 57,
   "id": "82e18d40-6e60-4800-a3af-78473da25a0c",
   "metadata": {},
   "outputs": [],
   "source": [
    "zippedlist=list(zip(foodlist,calorilist,daylist))"
   ]
  },
  {
   "cell_type": "code",
   "execution_count": 65,
   "id": "99ce3b53-007b-4e44-970c-5c3c78a19cf5",
   "metadata": {},
   "outputs": [
    {
     "data": {
      "text/plain": [
       "[('apple', 100, 'monday'),\n",
       " ('banana', 150, 'tuesday'),\n",
       " ('melon', 200, 'wednesday')]"
      ]
     },
     "execution_count": 65,
     "metadata": {},
     "output_type": "execute_result"
    }
   ],
   "source": [
    "zippedlist"
   ]
  },
  {
   "cell_type": "code",
   "execution_count": null,
   "id": "613a0e7d-c6a5-422e-a858-7fc76f314f15",
   "metadata": {},
   "outputs": [],
   "source": []
  },
  {
   "cell_type": "code",
   "execution_count": null,
   "id": "31d34f73-1307-4325-9669-8411e815489e",
   "metadata": {},
   "outputs": [],
   "source": []
  },
  {
   "cell_type": "code",
   "execution_count": 59,
   "id": "bc54c96c-37e1-49cc-a31c-93e941d878e2",
   "metadata": {},
   "outputs": [],
   "source": [
    "newlist=[]\n",
    "mystring=\"metallica\"\n",
    "for element in mystring:\n",
    "    newlist.append(element)\n",
    "\n"
   ]
  },
  {
   "cell_type": "code",
   "execution_count": 60,
   "id": "bee85f66-03b1-46a9-b43e-b73d744b0f0d",
   "metadata": {},
   "outputs": [
    {
     "data": {
      "text/plain": [
       "['m', 'e', 't', 'a', 'l', 'l', 'i', 'c', 'a']"
      ]
     },
     "execution_count": 60,
     "metadata": {},
     "output_type": "execute_result"
    }
   ],
   "source": [
    "newlist"
   ]
  },
  {
   "cell_type": "code",
   "execution_count": 61,
   "id": "6dfa2305-4d1e-4fd6-a43c-17e7481a39cd",
   "metadata": {},
   "outputs": [],
   "source": [
    "#list comprehension"
   ]
  },
  {
   "cell_type": "code",
   "execution_count": 62,
   "id": "97088892-9adc-4638-bd10-deb4ef116a55",
   "metadata": {},
   "outputs": [
    {
     "data": {
      "text/plain": [
       "['m', 'e', 't', 'a', 'l', 'l', 'i', 'c', 'a']"
      ]
     },
     "execution_count": 62,
     "metadata": {},
     "output_type": "execute_result"
    }
   ],
   "source": [
    "newlist=[element for element in mystring]\n",
    "newlist"
   ]
  },
  {
   "cell_type": "code",
   "execution_count": 64,
   "id": "ae008da9-1726-4874-92cb-a115bf0e41b5",
   "metadata": {},
   "outputs": [
    {
     "data": {
      "text/plain": [
       "[5.0, 10.0, 15.0, 20.0, 25.0, 30.0]"
      ]
     },
     "execution_count": 64,
     "metadata": {},
     "output_type": "execute_result"
    }
   ],
   "source": [
    "numberlist=[10,20,30,40,50,60]\n",
    "newnumberlist=[element/2 for element in numberlist]\n",
    "newnumberlist\n"
   ]
  },
  {
   "cell_type": "code",
   "execution_count": null,
   "id": "5e7d8676-86a3-4b4f-8235-5097cc6042c5",
   "metadata": {},
   "outputs": [],
   "source": []
  },
  {
   "cell_type": "code",
   "execution_count": null,
   "id": "f490648a-384d-4e82-92f5-2b5e2e33b514",
   "metadata": {},
   "outputs": [],
   "source": []
  },
  {
   "cell_type": "code",
   "execution_count": null,
   "id": "580ddd20-84ae-4ef1-93eb-ee967c3477df",
   "metadata": {},
   "outputs": [],
   "source": []
  }
 ],
 "metadata": {
  "kernelspec": {
   "display_name": "Python [conda env:base] *",
   "language": "python",
   "name": "conda-base-py"
  },
  "language_info": {
   "codemirror_mode": {
    "name": "ipython",
    "version": 3
   },
   "file_extension": ".py",
   "mimetype": "text/x-python",
   "name": "python",
   "nbconvert_exporter": "python",
   "pygments_lexer": "ipython3",
   "version": "3.12.7"
  }
 },
 "nbformat": 4,
 "nbformat_minor": 5
}
