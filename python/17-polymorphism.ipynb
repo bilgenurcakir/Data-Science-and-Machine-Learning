{
 "cells": [
  {
   "cell_type": "code",
   "execution_count": 12,
   "id": "24a0b42f-502e-4e27-a294-bdea4d860af1",
   "metadata": {},
   "outputs": [],
   "source": [
    "class Banana():\n",
    "    def __init__(self,name):\n",
    "        self.name=name\n",
    "\n",
    "    def info(self):\n",
    "        return f\"100 calories {self.name}\"\n",
    "\n",
    "\n",
    "class Apple():\n",
    "    def __init__(self,name):\n",
    "        self.name=name\n",
    "\n",
    "    def info(self):\n",
    "        return f\"130 calories {self.name}\"\n",
    "\n",
    "\n"
   ]
  },
  {
   "cell_type": "code",
   "execution_count": 13,
   "id": "6d229449-30e7-4ee5-beb4-9b92f5738f6e",
   "metadata": {},
   "outputs": [],
   "source": [
    "banana=Banana(\"muz\")"
   ]
  },
  {
   "cell_type": "code",
   "execution_count": 14,
   "id": "5e955f4b-2cec-424f-9f7f-cde4513e9650",
   "metadata": {},
   "outputs": [],
   "source": [
    "apple=Apple(\"elma\")"
   ]
  },
  {
   "cell_type": "code",
   "execution_count": 15,
   "id": "48664de7-9f90-4771-a72d-8a9e3561c2ab",
   "metadata": {},
   "outputs": [
    {
     "data": {
      "text/plain": [
       "'100 calories muz'"
      ]
     },
     "execution_count": 15,
     "metadata": {},
     "output_type": "execute_result"
    }
   ],
   "source": [
    "banana.info()"
   ]
  },
  {
   "cell_type": "code",
   "execution_count": 16,
   "id": "c56f3cf3-49a8-4449-bd25-87f6287cdac1",
   "metadata": {},
   "outputs": [
    {
     "data": {
      "text/plain": [
       "'130 calories elma'"
      ]
     },
     "execution_count": 16,
     "metadata": {},
     "output_type": "execute_result"
    }
   ],
   "source": [
    "apple.info()"
   ]
  },
  {
   "cell_type": "code",
   "execution_count": 17,
   "id": "ad5b4e32-13d7-47c9-ae1c-69ba59d26fc7",
   "metadata": {},
   "outputs": [],
   "source": [
    "fruitlist=[banana,apple]"
   ]
  },
  {
   "cell_type": "code",
   "execution_count": 18,
   "id": "dc5df01d-48f5-4900-92dc-1285796efdc7",
   "metadata": {},
   "outputs": [
    {
     "name": "stdout",
     "output_type": "stream",
     "text": [
      "100 calories muz\n",
      "130 calories elma\n"
     ]
    }
   ],
   "source": [
    "for fruit in fruitlist:\n",
    "    print(fruit.info())"
   ]
  },
  {
   "cell_type": "code",
   "execution_count": null,
   "id": "fa8d1b0a-c2e1-45a0-813a-15b679acf65a",
   "metadata": {},
   "outputs": [],
   "source": []
  },
  {
   "cell_type": "code",
   "execution_count": null,
   "id": "3c6c8925-9c7e-4f8f-8c0f-ba35ff524d91",
   "metadata": {},
   "outputs": [],
   "source": []
  }
 ],
 "metadata": {
  "kernelspec": {
   "display_name": "Python [conda env:base] *",
   "language": "python",
   "name": "conda-base-py"
  },
  "language_info": {
   "codemirror_mode": {
    "name": "ipython",
    "version": 3
   },
   "file_extension": ".py",
   "mimetype": "text/x-python",
   "name": "python",
   "nbconvert_exporter": "python",
   "pygments_lexer": "ipython3",
   "version": "3.12.7"
  }
 },
 "nbformat": 4,
 "nbformat_minor": 5
}
