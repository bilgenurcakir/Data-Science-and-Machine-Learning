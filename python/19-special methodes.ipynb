{
 "cells": [
  {
   "cell_type": "code",
   "execution_count": 2,
   "id": "f5015292-22b5-446d-83b8-86f9bad004b6",
   "metadata": {},
   "outputs": [],
   "source": [
    "class Fruit():\n",
    "    def __init__(self,name,calorie):\n",
    "        self.name=name\n",
    "        self.calorie=calorie\n",
    "        \n",
    "    def __str__(self):\n",
    "        return f\"{self.name}:{self.calorie} calories\"\n",
    "    def __len__(self):\n",
    "        return self.calorie\n",
    "        "
   ]
  },
  {
   "cell_type": "code",
   "execution_count": 3,
   "id": "155e5075-6202-474e-923b-9ca731ce04d7",
   "metadata": {},
   "outputs": [],
   "source": [
    "myFruit= Fruit(\"muz\",150)"
   ]
  },
  {
   "cell_type": "code",
   "execution_count": 4,
   "id": "667e52dc-4b01-4af5-9a1d-270a209d4340",
   "metadata": {},
   "outputs": [
    {
     "name": "stdout",
     "output_type": "stream",
     "text": [
      "muz:150 calories\n"
     ]
    }
   ],
   "source": [
    "print(myFruit)"
   ]
  },
  {
   "cell_type": "code",
   "execution_count": 5,
   "id": "d2fdfe08-cb7b-4dca-bcd5-ae74a24f5ec3",
   "metadata": {},
   "outputs": [
    {
     "data": {
      "text/plain": [
       "150"
      ]
     },
     "execution_count": 5,
     "metadata": {},
     "output_type": "execute_result"
    }
   ],
   "source": [
    "len(myFruit)"
   ]
  },
  {
   "cell_type": "code",
   "execution_count": 6,
   "id": "41b318d7-afa1-4e3c-9948-eb7f8d40de3b",
   "metadata": {},
   "outputs": [],
   "source": [
    "class Train():\n",
    "    def __init__(self,name):\n",
    "        self.name=name\n",
    "        \n",
    "    def __getitem__(self,key):\n",
    "        if key==\"a\":\n",
    "            return self.name\n",
    "        elif key==\"b\":\n",
    "            return \"not found\"\n",
    "        "
   ]
  },
  {
   "cell_type": "code",
   "execution_count": 7,
   "id": "793135e3-281d-4dc7-9ce2-dd80244b9a0f",
   "metadata": {},
   "outputs": [],
   "source": [
    "mytrain=Train(\"yht\")"
   ]
  },
  {
   "cell_type": "code",
   "execution_count": 8,
   "id": "f67fa5f1-fdd6-474d-90c6-4376fe7c2ce9",
   "metadata": {},
   "outputs": [
    {
     "data": {
      "text/plain": [
       "'not found'"
      ]
     },
     "execution_count": 8,
     "metadata": {},
     "output_type": "execute_result"
    }
   ],
   "source": [
    "mytrain[\"b\"]"
   ]
  },
  {
   "cell_type": "code",
   "execution_count": 9,
   "id": "f1ba3246-9117-4229-b863-bfcfe3937a79",
   "metadata": {},
   "outputs": [
    {
     "data": {
      "text/plain": [
       "'yht'"
      ]
     },
     "execution_count": 9,
     "metadata": {},
     "output_type": "execute_result"
    }
   ],
   "source": [
    "mytrain[\"a\"]"
   ]
  }
 ],
 "metadata": {
  "kernelspec": {
   "display_name": "Python [conda env:base] *",
   "language": "python",
   "name": "conda-base-py"
  },
  "language_info": {
   "codemirror_mode": {
    "name": "ipython",
    "version": 3
   },
   "file_extension": ".py",
   "mimetype": "text/x-python",
   "name": "python",
   "nbconvert_exporter": "python",
   "pygments_lexer": "ipython3",
   "version": "3.12.7"
  }
 },
 "nbformat": 4,
 "nbformat_minor": 5
}
