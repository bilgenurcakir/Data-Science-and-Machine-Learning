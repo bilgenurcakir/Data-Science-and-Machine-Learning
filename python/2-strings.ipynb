{
 "cells": [
  {
   "cell_type": "code",
   "execution_count": 1,
   "id": "90a7bc88-392a-4055-a806-b6a8b3a9e957",
   "metadata": {},
   "outputs": [
    {
     "data": {
      "text/plain": [
       "'hello world'"
      ]
     },
     "execution_count": 1,
     "metadata": {},
     "output_type": "execute_result"
    }
   ],
   "source": [
    "\"hello world\""
   ]
  },
  {
   "cell_type": "code",
   "execution_count": 3,
   "id": "8adcf2db-e729-422e-ab90-c94afcec7e3d",
   "metadata": {},
   "outputs": [
    {
     "name": "stdout",
     "output_type": "stream",
     "text": [
      "hello python\n"
     ]
    }
   ],
   "source": [
    "print(\"hello python\")"
   ]
  },
  {
   "cell_type": "code",
   "execution_count": 8,
   "id": "e61a1591-3a5c-4bc0-9205-da1bcb1cc711",
   "metadata": {},
   "outputs": [],
   "source": [
    "name=\"atıl\""
   ]
  },
  {
   "cell_type": "code",
   "execution_count": 10,
   "id": "213277f0-34fa-40dd-9ba8-91960dfb4589",
   "metadata": {},
   "outputs": [
    {
     "data": {
      "text/plain": [
       "str"
      ]
     },
     "execution_count": 10,
     "metadata": {},
     "output_type": "execute_result"
    }
   ],
   "source": [
    "type(name)"
   ]
  },
  {
   "cell_type": "code",
   "execution_count": 11,
   "id": "fbc66a76-15d8-453f-9d8b-bcf88ed1542d",
   "metadata": {},
   "outputs": [],
   "source": [
    "name=\"bilgenur çakır\""
   ]
  },
  {
   "cell_type": "code",
   "execution_count": 13,
   "id": "1a2d59ee-0d35-4ce8-8e61-21a83d94b604",
   "metadata": {},
   "outputs": [
    {
     "data": {
      "text/plain": [
       "'Bilgenur çakır'"
      ]
     },
     "execution_count": 13,
     "metadata": {},
     "output_type": "execute_result"
    }
   ],
   "source": [
    "name.capitalize()"
   ]
  },
  {
   "cell_type": "code",
   "execution_count": 21,
   "id": "4b32bdb7-7aa0-44ba-997d-41f63624e1e5",
   "metadata": {},
   "outputs": [
    {
     "data": {
      "text/plain": [
       "['bilgenur', 'çakır']"
      ]
     },
     "execution_count": 21,
     "metadata": {},
     "output_type": "execute_result"
    }
   ],
   "source": [
    "name.split(  )"
   ]
  },
  {
   "cell_type": "code",
   "execution_count": 22,
   "id": "5d620ce5-c5b0-445d-a5c8-83ac3c02cc87",
   "metadata": {},
   "outputs": [],
   "source": [
    "# \\n new line"
   ]
  },
  {
   "cell_type": "code",
   "execution_count": 24,
   "id": "041b253c-fbb9-4570-89f9-03dd04927e9c",
   "metadata": {},
   "outputs": [],
   "source": [
    "# \\t tab"
   ]
  },
  {
   "cell_type": "code",
   "execution_count": 26,
   "id": "f2b1e35c-45e4-4c03-bf26-1e548ad78578",
   "metadata": {},
   "outputs": [
    {
     "name": "stdout",
     "output_type": "stream",
     "text": [
      "bilge \n",
      "çakır\n"
     ]
    }
   ],
   "source": [
    "print(\"bilge \\nçakır\")"
   ]
  },
  {
   "cell_type": "code",
   "execution_count": 30,
   "id": "68a609d1-6af9-48ec-8441-b813e39a068a",
   "metadata": {},
   "outputs": [],
   "source": [
    "## Index --> sıfırdan başlar"
   ]
  },
  {
   "cell_type": "code",
   "execution_count": 28,
   "id": "84908053-361a-4989-b598-04e11a033ae2",
   "metadata": {},
   "outputs": [],
   "source": [
    "mystring=\"hello python\""
   ]
  },
  {
   "cell_type": "code",
   "execution_count": 31,
   "id": "9b8ab04b-b6be-4898-bf24-0561898c9f77",
   "metadata": {},
   "outputs": [
    {
     "data": {
      "text/plain": [
       "'h'"
      ]
     },
     "execution_count": 31,
     "metadata": {},
     "output_type": "execute_result"
    }
   ],
   "source": [
    "mystring[0]"
   ]
  },
  {
   "cell_type": "code",
   "execution_count": 32,
   "id": "6f722318-e7dc-4e47-a19b-2a915f5d23d9",
   "metadata": {},
   "outputs": [
    {
     "data": {
      "text/plain": [
       "'n'"
      ]
     },
     "execution_count": 32,
     "metadata": {},
     "output_type": "execute_result"
    }
   ],
   "source": [
    "mystring[11]"
   ]
  },
  {
   "cell_type": "code",
   "execution_count": 34,
   "id": "c2d7caf4-07b2-47ac-83c3-e8828503d6ab",
   "metadata": {},
   "outputs": [
    {
     "data": {
      "text/plain": [
       "12"
      ]
     },
     "execution_count": 34,
     "metadata": {},
     "output_type": "execute_result"
    }
   ],
   "source": [
    "len(mystring)"
   ]
  },
  {
   "cell_type": "code",
   "execution_count": 35,
   "id": "f5096b66-c8d3-4806-a814-64a5bd15e7ed",
   "metadata": {},
   "outputs": [
    {
     "data": {
      "text/plain": [
       "11"
      ]
     },
     "execution_count": 35,
     "metadata": {},
     "output_type": "execute_result"
    }
   ],
   "source": [
    "len(mystring)-1   #son harfi verir."
   ]
  },
  {
   "cell_type": "code",
   "execution_count": 36,
   "id": "cf15deeb-9843-41a0-b02c-3ac9dc42e0c1",
   "metadata": {},
   "outputs": [],
   "source": [
    "myname=\"james hetfield\""
   ]
  },
  {
   "cell_type": "code",
   "execution_count": 38,
   "id": "e131a310-056d-48af-983f-bd60110401db",
   "metadata": {},
   "outputs": [
    {
     "data": {
      "text/plain": [
       "'d'"
      ]
     },
     "execution_count": 38,
     "metadata": {},
     "output_type": "execute_result"
    }
   ],
   "source": [
    "myname[len(myname)-1]"
   ]
  },
  {
   "cell_type": "code",
   "execution_count": 39,
   "id": "c18dc858-fcbc-442a-8b70-f4f50ae48ba7",
   "metadata": {},
   "outputs": [
    {
     "data": {
      "text/plain": [
       "'d'"
      ]
     },
     "execution_count": 39,
     "metadata": {},
     "output_type": "execute_result"
    }
   ],
   "source": [
    "myname[-1]  #son harfi verir"
   ]
  },
  {
   "cell_type": "code",
   "execution_count": 40,
   "id": "b35a11de-eeb2-48ec-a7da-2af9e17f0e8b",
   "metadata": {},
   "outputs": [
    {
     "data": {
      "text/plain": [
       "'l'"
      ]
     },
     "execution_count": 40,
     "metadata": {},
     "output_type": "execute_result"
    }
   ],
   "source": [
    "myname[-2] #sondan bir onceki harfi verir"
   ]
  },
  {
   "cell_type": "code",
   "execution_count": 41,
   "id": "2976a38f-cd3d-4ccb-b784-ef853bebe0f6",
   "metadata": {},
   "outputs": [],
   "source": [
    "barcode=\"abcde123123982\""
   ]
  },
  {
   "cell_type": "code",
   "execution_count": 43,
   "id": "e65004f0-6678-4ac1-826c-d76202a72987",
   "metadata": {},
   "outputs": [
    {
     "data": {
      "text/plain": [
       "'abc'"
      ]
     },
     "execution_count": 43,
     "metadata": {},
     "output_type": "execute_result"
    }
   ],
   "source": [
    "barcode[0]+ barcode[1]+ barcode[2]"
   ]
  },
  {
   "cell_type": "code",
   "execution_count": 48,
   "id": "b00e2b43-ef32-464f-b35e-923064552c98",
   "metadata": {},
   "outputs": [],
   "source": [
    "#slicing -> starting index, stopping index, stepping index"
   ]
  },
  {
   "cell_type": "code",
   "execution_count": 51,
   "id": "88deb41f-d85f-4cff-beb7-454de6406041",
   "metadata": {},
   "outputs": [],
   "source": [
    "#barcode[#starting : #stopping : #stepping]"
   ]
  },
  {
   "cell_type": "code",
   "execution_count": 52,
   "id": "57fe2d79-6154-45cf-8cc2-b81e6f7ed188",
   "metadata": {},
   "outputs": [
    {
     "data": {
      "text/plain": [
       "'de123123982'"
      ]
     },
     "execution_count": 52,
     "metadata": {},
     "output_type": "execute_result"
    }
   ],
   "source": [
    "barcode[3::]"
   ]
  },
  {
   "cell_type": "code",
   "execution_count": 54,
   "id": "6c32c918-5646-4642-b0ce-18824b73d47e",
   "metadata": {},
   "outputs": [
    {
     "data": {
      "text/plain": [
       "'abc'"
      ]
     },
     "execution_count": 54,
     "metadata": {},
     "output_type": "execute_result"
    }
   ],
   "source": [
    "barcode[:3:]"
   ]
  },
  {
   "cell_type": "code",
   "execution_count": 57,
   "id": "0aa3b5bf-7061-4302-b230-78449fc36047",
   "metadata": {},
   "outputs": [
    {
     "data": {
      "text/plain": [
       "'ace2138'"
      ]
     },
     "execution_count": 57,
     "metadata": {},
     "output_type": "execute_result"
    }
   ],
   "source": [
    "barcode[::2]"
   ]
  },
  {
   "cell_type": "code",
   "execution_count": 59,
   "id": "8f5d2112-f685-4152-8146-865376040326",
   "metadata": {},
   "outputs": [
    {
     "data": {
      "text/plain": [
       "'de'"
      ]
     },
     "execution_count": 59,
     "metadata": {},
     "output_type": "execute_result"
    }
   ],
   "source": [
    "barcode[3:5:]"
   ]
  },
  {
   "cell_type": "code",
   "execution_count": 62,
   "id": "317aa196-77a1-4da8-b418-373cebef1878",
   "metadata": {},
   "outputs": [
    {
     "data": {
      "text/plain": [
       "'289321321edcba'"
      ]
     },
     "execution_count": 62,
     "metadata": {},
     "output_type": "execute_result"
    }
   ],
   "source": [
    "barcode[::-1]  # ters çevirir"
   ]
  },
  {
   "cell_type": "code",
   "execution_count": 63,
   "id": "398ffd4f-a3d4-4122-a1b2-d87a6d11db72",
   "metadata": {},
   "outputs": [],
   "source": [
    "name=\"bilgenur çakır\""
   ]
  },
  {
   "cell_type": "code",
   "execution_count": 64,
   "id": "c26a37b6-1bc1-4310-b391-9b7545383367",
   "metadata": {},
   "outputs": [
    {
     "data": {
      "text/plain": [
       "3"
      ]
     },
     "execution_count": 64,
     "metadata": {},
     "output_type": "execute_result"
    }
   ],
   "source": [
    "name.index(\"g\")"
   ]
  },
  {
   "cell_type": "code",
   "execution_count": 65,
   "id": "b10c9996-5a87-4efd-a756-3cc7dab9de86",
   "metadata": {},
   "outputs": [
    {
     "data": {
      "text/plain": [
       "['bilgenur', 'çakır']"
      ]
     },
     "execution_count": 65,
     "metadata": {},
     "output_type": "execute_result"
    }
   ],
   "source": [
    "name.split()"
   ]
  },
  {
   "cell_type": "code",
   "execution_count": null,
   "id": "fa3b47ce-8dc8-4215-a76d-84f019c54ac6",
   "metadata": {},
   "outputs": [],
   "source": []
  },
  {
   "cell_type": "code",
   "execution_count": null,
   "id": "1eef6aef-2381-481b-b213-cd41fc9dba3b",
   "metadata": {},
   "outputs": [],
   "source": []
  },
  {
   "cell_type": "code",
   "execution_count": null,
   "id": "b0df05b3-f184-4767-b87b-922ccf6681b1",
   "metadata": {},
   "outputs": [],
   "source": []
  }
 ],
 "metadata": {
  "kernelspec": {
   "display_name": "Python [conda env:base] *",
   "language": "python",
   "name": "conda-base-py"
  },
  "language_info": {
   "codemirror_mode": {
    "name": "ipython",
    "version": 3
   },
   "file_extension": ".py",
   "mimetype": "text/x-python",
   "name": "python",
   "nbconvert_exporter": "python",
   "pygments_lexer": "ipython3",
   "version": "3.12.7"
  }
 },
 "nbformat": 4,
 "nbformat_minor": 5
}
