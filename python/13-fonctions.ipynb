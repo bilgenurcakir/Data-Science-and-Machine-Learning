{
 "cells": [
  {
   "cell_type": "code",
   "execution_count": 1,
   "id": "46d85a2d-9795-4d5c-aa7c-0eb1e5742630",
   "metadata": {},
   "outputs": [],
   "source": [
    "my_name=\"bilgenur\""
   ]
  },
  {
   "cell_type": "code",
   "execution_count": 2,
   "id": "d1ff0d7d-633e-410a-81a7-d31064840899",
   "metadata": {},
   "outputs": [
    {
     "data": {
      "text/plain": [
       "'BILGENUR'"
      ]
     },
     "execution_count": 2,
     "metadata": {},
     "output_type": "execute_result"
    }
   ],
   "source": [
    "my_name.upper()"
   ]
  },
  {
   "cell_type": "code",
   "execution_count": 3,
   "id": "c8908176-450d-4c3b-a611-306a1cfdf075",
   "metadata": {},
   "outputs": [],
   "source": [
    "my_name_upper=my_name.upper()"
   ]
  },
  {
   "cell_type": "code",
   "execution_count": null,
   "id": "7231aaaa-c2d5-455e-aa3c-837e31931b6e",
   "metadata": {},
   "outputs": [],
   "source": []
  },
  {
   "cell_type": "code",
   "execution_count": 7,
   "id": "7cc63018-70dd-4ba4-aab4-481dda59c5ac",
   "metadata": {},
   "outputs": [],
   "source": [
    "def hello_python() :\n",
    "    print(\"hello\")\n",
    "    print(\"python\")"
   ]
  },
  {
   "cell_type": "code",
   "execution_count": 6,
   "id": "41d56223-339a-4e74-adfd-48b6207d3bf8",
   "metadata": {},
   "outputs": [
    {
     "name": "stdout",
     "output_type": "stream",
     "text": [
      "hello\n",
      "python\n"
     ]
    }
   ],
   "source": [
    "hello_python()"
   ]
  },
  {
   "cell_type": "code",
   "execution_count": 10,
   "id": "fd198a7e-5296-43d4-a669-54076af0272f",
   "metadata": {},
   "outputs": [],
   "source": [
    "def hello_name(name):\n",
    "    print(\"hello\")\n",
    "    print(name)"
   ]
  },
  {
   "cell_type": "code",
   "execution_count": 13,
   "id": "805cb08d-6d09-4342-bb26-ea551670a41d",
   "metadata": {},
   "outputs": [
    {
     "name": "stdout",
     "output_type": "stream",
     "text": [
      "hello\n",
      "bilgenur\n"
     ]
    }
   ],
   "source": [
    "hello_name(\"bilgenur\")"
   ]
  },
  {
   "cell_type": "code",
   "execution_count": 16,
   "id": "8dc7a80a-2668-4ef1-9db8-647a371f9171",
   "metadata": {},
   "outputs": [],
   "source": [
    "def sumexample(num1,num2):\n",
    "    print(num1+num2)"
   ]
  },
  {
   "cell_type": "code",
   "execution_count": 17,
   "id": "39659fd3-700a-44c9-b6b8-4eeb8d9ac745",
   "metadata": {},
   "outputs": [
    {
     "name": "stdout",
     "output_type": "stream",
     "text": [
      "10\n"
     ]
    }
   ],
   "source": [
    "sumexample(8,2)"
   ]
  },
  {
   "cell_type": "code",
   "execution_count": 18,
   "id": "5c1a0f4e-ade7-456d-8b00-b14bca2574e9",
   "metadata": {},
   "outputs": [],
   "source": [
    "def hello_surname(surname=\"çakır\"):\n",
    "    print(\"hello\")\n",
    "    print(surname)"
   ]
  },
  {
   "cell_type": "code",
   "execution_count": 19,
   "id": "3f1589c1-478e-4307-a9e4-c6fde8e511a9",
   "metadata": {},
   "outputs": [
    {
     "name": "stdout",
     "output_type": "stream",
     "text": [
      "hello\n",
      "çakır\n"
     ]
    }
   ],
   "source": [
    "hello_surname()"
   ]
  },
  {
   "cell_type": "code",
   "execution_count": 20,
   "id": "dfaf41f4-5193-4100-8b35-331ca6133d80",
   "metadata": {},
   "outputs": [
    {
     "name": "stdout",
     "output_type": "stream",
     "text": [
      "hello\n",
      "çiğdem\n"
     ]
    }
   ],
   "source": [
    "hello_surname(\"çiğdem\")"
   ]
  },
  {
   "cell_type": "code",
   "execution_count": 22,
   "id": "4d822d49-6b51-4961-adff-9e43ea4412e5",
   "metadata": {},
   "outputs": [],
   "source": [
    "#return "
   ]
  },
  {
   "cell_type": "code",
   "execution_count": 27,
   "id": "fc88279b-91bf-4388-ba96-15981c069e3f",
   "metadata": {},
   "outputs": [],
   "source": [
    "def ret_summation(num1,num2,num3):\n",
    "    return num1+num2+num3"
   ]
  },
  {
   "cell_type": "code",
   "execution_count": 29,
   "id": "9cc42d56-d117-42ef-9a53-8c621806a66e",
   "metadata": {},
   "outputs": [],
   "source": [
    "x=ret_summation(10,2,8)"
   ]
  },
  {
   "cell_type": "code",
   "execution_count": 31,
   "id": "ccd1610c-e644-4739-871f-6480ebd42875",
   "metadata": {},
   "outputs": [
    {
     "data": {
      "text/plain": [
       "20"
      ]
     },
     "execution_count": 31,
     "metadata": {},
     "output_type": "execute_result"
    }
   ],
   "source": [
    "x"
   ]
  },
  {
   "cell_type": "code",
   "execution_count": 38,
   "id": "53dbb2f8-0c49-42f6-bb3c-431da630c4f9",
   "metadata": {},
   "outputs": [],
   "source": [
    "def control_string(s):\n",
    "    if s[0]==\"a\":\n",
    "        print(\"a ile başlıyo\")\n",
    "    else:\n",
    "        print(\"a ile başlamıyor\")"
   ]
  },
  {
   "cell_type": "code",
   "execution_count": 39,
   "id": "d74d47a3-11d1-4c92-817a-ebf7c88c5ccf",
   "metadata": {},
   "outputs": [
    {
     "name": "stdout",
     "output_type": "stream",
     "text": [
      "a ile başlıyo\n"
     ]
    }
   ],
   "source": [
    "control_string(\"akın çakır\")"
   ]
  },
  {
   "cell_type": "code",
   "execution_count": 37,
   "id": "67b5021d-f319-4dbe-aa38-38c1f8a8680a",
   "metadata": {},
   "outputs": [
    {
     "name": "stdout",
     "output_type": "stream",
     "text": [
      "a ile başlamıyor\n"
     ]
    }
   ],
   "source": [
    "control_string(\"hatice çakır\")"
   ]
  },
  {
   "cell_type": "code",
   "execution_count": null,
   "id": "00b90bfb-f35b-4ac0-b276-f4b80bbb3579",
   "metadata": {},
   "outputs": [],
   "source": []
  },
  {
   "cell_type": "code",
   "execution_count": 44,
   "id": "7522c6a1-6136-45e6-8751-303d674b5c07",
   "metadata": {},
   "outputs": [],
   "source": [
    "#args, kwargs (Arguments, keyword arguments) birden fazla argumanı alabilmek için kullanılır"
   ]
  },
  {
   "cell_type": "code",
   "execution_count": 42,
   "id": "296e57f7-67a9-4744-97b0-42543533a3ec",
   "metadata": {},
   "outputs": [],
   "source": [
    "def args_sum(*args):\n",
    "    return sum(args)"
   ]
  },
  {
   "cell_type": "code",
   "execution_count": 43,
   "id": "141a72ba-7766-474b-96cd-9b730adfc395",
   "metadata": {},
   "outputs": [
    {
     "data": {
      "text/plain": [
       "30"
      ]
     },
     "execution_count": 43,
     "metadata": {},
     "output_type": "execute_result"
    }
   ],
   "source": [
    "args_sum(10,2,3,4,5,6)"
   ]
  },
  {
   "cell_type": "code",
   "execution_count": 56,
   "id": "1080a9e2-444e-4948-bdd0-1943f8b7c63e",
   "metadata": {},
   "outputs": [],
   "source": [
    "def kwargs_example(**kwargs):\n",
    "    print(kwargs )\n",
    "    if \"apple\" in kwargs:\n",
    "        print(\"elma vardir\")\n",
    "    else : print(\"yokturr\")\n",
    "        \n",
    "   "
   ]
  },
  {
   "cell_type": "code",
   "execution_count": 52,
   "id": "ee424a38-73ff-4056-8518-709d4469c680",
   "metadata": {},
   "outputs": [
    {
     "name": "stdout",
     "output_type": "stream",
     "text": [
      "{'apple': 100, 'banana': 200, 'melon': 300}\n",
      "elma vardir\n"
     ]
    }
   ],
   "source": [
    "kwargs_example(apple=100,banana=200,melon=300)"
   ]
  },
  {
   "cell_type": "code",
   "execution_count": null,
   "id": "386f52ce-bdd9-4769-95ec-2cf78dcd221d",
   "metadata": {},
   "outputs": [],
   "source": []
  }
 ],
 "metadata": {
  "kernelspec": {
   "display_name": "Python [conda env:base] *",
   "language": "python",
   "name": "conda-base-py"
  },
  "language_info": {
   "codemirror_mode": {
    "name": "ipython",
    "version": 3
   },
   "file_extension": ".py",
   "mimetype": "text/x-python",
   "name": "python",
   "nbconvert_exporter": "python",
   "pygments_lexer": "ipython3",
   "version": "3.12.7"
  }
 },
 "nbformat": 4,
 "nbformat_minor": 5
}
