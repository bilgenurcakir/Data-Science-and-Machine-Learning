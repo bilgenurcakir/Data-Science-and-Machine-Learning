{
 "cells": [
  {
   "cell_type": "code",
   "execution_count": 1,
   "id": "c7a52c06-0408-4a80-b6c5-36bfb8c0c957",
   "metadata": {},
   "outputs": [],
   "source": [
    "atilname=\"atıl\"\n",
    "atilage=90\n",
    "atilgender=\"male\""
   ]
  },
  {
   "cell_type": "code",
   "execution_count": 49,
   "id": "84c64ff1-a492-4a73-b332-30735afd6e8c",
   "metadata": {},
   "outputs": [],
   "source": [
    "class Person(): #buyuk harfle tanımlanır\n",
    "   #property (yazmasan da olur)\n",
    "    name=\"\"\n",
    "    age=0\n",
    "    gender=\"\"\n",
    "\n",
    "    #initiliazer method\n",
    "    def __init__(self,name,age,gender): \n",
    "        #her çağrıldığında (obje oluşturulduğunda) bu fonksiyonu çalıştıracak\n",
    "        print(\"init executed\")\n",
    "        self.name=name\n",
    "        self.age=age\n",
    "        self.gender=gender\n",
    "        \n",
    "    #method    \n",
    "    def test(self):\n",
    "        print(\"test\")\n",
    "\n",
    "    \n",
    "    def printname(self):\n",
    "        print(atil.name)\n",
    "    \n",
    "\n",
    "\n",
    "\n",
    "    \n"
   ]
  },
  {
   "cell_type": "code",
   "execution_count": 50,
   "id": "dfb7175c-4a56-44f3-8823-e5ffc1fcf3e8",
   "metadata": {},
   "outputs": [
    {
     "name": "stdout",
     "output_type": "stream",
     "text": [
      "init executed\n"
     ]
    }
   ],
   "source": [
    "atil=Person(\"atil\",35,\"male\")"
   ]
  },
  {
   "cell_type": "code",
   "execution_count": 51,
   "id": "9dd3658e-88ad-4e83-a46b-8269887652c4",
   "metadata": {},
   "outputs": [
    {
     "data": {
      "text/plain": [
       "35"
      ]
     },
     "execution_count": 51,
     "metadata": {},
     "output_type": "execute_result"
    }
   ],
   "source": [
    "type(atil)\n",
    "atil.age\n"
   ]
  },
  {
   "cell_type": "code",
   "execution_count": 52,
   "id": "b48104cd-c0a7-4011-96f7-5c1338eec94d",
   "metadata": {},
   "outputs": [
    {
     "data": {
      "text/plain": [
       "'male'"
      ]
     },
     "execution_count": 52,
     "metadata": {},
     "output_type": "execute_result"
    }
   ],
   "source": [
    "atil.gender\n"
   ]
  },
  {
   "cell_type": "code",
   "execution_count": 53,
   "id": "ddeeda66-332b-4dab-951b-259d9c538b24",
   "metadata": {},
   "outputs": [
    {
     "data": {
      "text/plain": [
       "'atil'"
      ]
     },
     "execution_count": 53,
     "metadata": {},
     "output_type": "execute_result"
    }
   ],
   "source": [
    "atil.name"
   ]
  },
  {
   "cell_type": "code",
   "execution_count": 54,
   "id": "81265d1d-7722-4467-8ab9-3a7a190f47c3",
   "metadata": {},
   "outputs": [],
   "source": [
    "atil.name=\"Atil Samancioglu\"\n",
    "atil.age=90\n",
    "atil.gender=\"male\""
   ]
  },
  {
   "cell_type": "code",
   "execution_count": 55,
   "id": "d34d0b6e-c469-44a7-bb3d-a2e1a59511b1",
   "metadata": {},
   "outputs": [
    {
     "name": "stdout",
     "output_type": "stream",
     "text": [
      "test\n"
     ]
    }
   ],
   "source": [
    "atil.test()"
   ]
  },
  {
   "cell_type": "code",
   "execution_count": 57,
   "id": "55834a32-b525-4100-80ad-b1afbcdb4cfa",
   "metadata": {},
   "outputs": [
    {
     "name": "stdout",
     "output_type": "stream",
     "text": [
      "Atil Samancioglu\n"
     ]
    }
   ],
   "source": [
    "atil.printname()"
   ]
  },
  {
   "cell_type": "code",
   "execution_count": null,
   "id": "f0c4a7c0-6ce4-4151-a55b-719f1e501d42",
   "metadata": {},
   "outputs": [],
   "source": []
  },
  {
   "cell_type": "code",
   "execution_count": null,
   "id": "4368c6bb-93ba-4627-936c-160cf4ee16ab",
   "metadata": {},
   "outputs": [],
   "source": []
  },
  {
   "cell_type": "code",
   "execution_count": 75,
   "id": "fca3dc12-04ae-43c8-a6ae-6aa8fb417053",
   "metadata": {},
   "outputs": [],
   "source": [
    "class Dog():\n",
    "\n",
    "    year=7\n",
    "    \n",
    "    def __init__(self,age):\n",
    "        self.age=age\n",
    "        self.doghumanage=age*self.year\n",
    "        \n",
    "    def humanage(self):\n",
    "        return self.age * Dog.year  #--> self.year yerine yazabiliriz\n",
    "        "
   ]
  },
  {
   "cell_type": "code",
   "execution_count": 76,
   "id": "8dea9ecd-fc26-479b-84b8-23fdb515d62a",
   "metadata": {},
   "outputs": [],
   "source": [
    "mydog= Dog(3)"
   ]
  },
  {
   "cell_type": "code",
   "execution_count": 77,
   "id": "7cef120e-86f8-473d-bba9-082ea2595b18",
   "metadata": {},
   "outputs": [
    {
     "data": {
      "text/plain": [
       "3"
      ]
     },
     "execution_count": 77,
     "metadata": {},
     "output_type": "execute_result"
    }
   ],
   "source": [
    "mydog.age"
   ]
  },
  {
   "cell_type": "code",
   "execution_count": 78,
   "id": "ecd7d1b4-2f51-42e6-8663-cf5640b27443",
   "metadata": {},
   "outputs": [
    {
     "data": {
      "text/plain": [
       "21"
      ]
     },
     "execution_count": 78,
     "metadata": {},
     "output_type": "execute_result"
    }
   ],
   "source": [
    "mydog.humanage()"
   ]
  },
  {
   "cell_type": "code",
   "execution_count": 80,
   "id": "79763732-2789-4d05-80ce-03cb9653f507",
   "metadata": {},
   "outputs": [
    {
     "data": {
      "text/plain": [
       "21"
      ]
     },
     "execution_count": 80,
     "metadata": {},
     "output_type": "execute_result"
    }
   ],
   "source": [
    "mydog.doghumanage"
   ]
  },
  {
   "cell_type": "code",
   "execution_count": null,
   "id": "8c0ce44a-ac7d-4e44-aaa8-cb568aa3a5c2",
   "metadata": {},
   "outputs": [],
   "source": []
  }
 ],
 "metadata": {
  "kernelspec": {
   "display_name": "Python [conda env:base] *",
   "language": "python",
   "name": "conda-base-py"
  },
  "language_info": {
   "codemirror_mode": {
    "name": "ipython",
    "version": 3
   },
   "file_extension": ".py",
   "mimetype": "text/x-python",
   "name": "python",
   "nbconvert_exporter": "python",
   "pygments_lexer": "ipython3",
   "version": "3.12.7"
  }
 },
 "nbformat": 4,
 "nbformat_minor": 5
}
