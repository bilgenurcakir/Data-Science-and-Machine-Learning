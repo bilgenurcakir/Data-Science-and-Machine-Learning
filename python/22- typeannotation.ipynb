{
 "cells": [
  {
   "cell_type": "code",
   "execution_count": 1,
   "id": "dd6f0478-1ad4-4d20-bc28-8d4e455c6a55",
   "metadata": {},
   "outputs": [],
   "source": [
    "name=\"atil\""
   ]
  },
  {
   "cell_type": "code",
   "execution_count": 2,
   "id": "b7eae2b9-dcdc-4261-a067-7c1c64899201",
   "metadata": {},
   "outputs": [],
   "source": [
    "name: str=\"atıl\""
   ]
  },
  {
   "cell_type": "code",
   "execution_count": 3,
   "id": "aa0904c1-f985-470b-9f2e-d945654f2986",
   "metadata": {},
   "outputs": [],
   "source": [
    "surname: str=20"
   ]
  },
  {
   "cell_type": "code",
   "execution_count": 4,
   "id": "80d32afa-dcea-4fdc-b891-4be178ed4e2a",
   "metadata": {},
   "outputs": [
    {
     "data": {
      "text/plain": [
       "int"
      ]
     },
     "execution_count": 4,
     "metadata": {},
     "output_type": "execute_result"
    }
   ],
   "source": [
    "type(surname)"
   ]
  },
  {
   "cell_type": "code",
   "execution_count": 5,
   "id": "e12f32cd-b60e-4044-be7c-bbc2867eccb1",
   "metadata": {},
   "outputs": [],
   "source": [
    "#kodu etkilemiyor. kodun okunmasını kolaylaştırmayı amaçlıyor"
   ]
  },
  {
   "cell_type": "code",
   "execution_count": 8,
   "id": "7d311d12-5834-4434-a6c0-2f99d01c3b20",
   "metadata": {},
   "outputs": [],
   "source": [
    "def add_numbers(a:int,b:int) ->int :\n",
    "    return a+b"
   ]
  },
  {
   "cell_type": "code",
   "execution_count": 7,
   "id": "bc97a509-d68c-49bd-9336-f53e53dba2ca",
   "metadata": {},
   "outputs": [
    {
     "data": {
      "text/plain": [
       "5"
      ]
     },
     "execution_count": 7,
     "metadata": {},
     "output_type": "execute_result"
    }
   ],
   "source": [
    "add_numbers(2,3)"
   ]
  },
  {
   "cell_type": "code",
   "execution_count": 9,
   "id": "4cf0ebd8-e993-476e-99c3-ab2d762dd873",
   "metadata": {},
   "outputs": [],
   "source": [
    "def process_value(value:int | str)->str:\n",
    "    if isinstance(value,int):\n",
    "        return f\"processed integer:{value}\"\n",
    "    else:\n",
    "        return f\"processed string:{value}\""
   ]
  },
  {
   "cell_type": "code",
   "execution_count": 10,
   "id": "579fa10a-6180-43e4-8833-ed7077c00076",
   "metadata": {},
   "outputs": [
    {
     "data": {
      "text/plain": [
       "'processed integer:40'"
      ]
     },
     "execution_count": 10,
     "metadata": {},
     "output_type": "execute_result"
    }
   ],
   "source": [
    "process_value(40)"
   ]
  },
  {
   "cell_type": "code",
   "execution_count": 11,
   "id": "2a89629c-0ceb-4d46-96cc-a5c5b6cd25e4",
   "metadata": {},
   "outputs": [
    {
     "data": {
      "text/plain": [
       "'processed string:bilge'"
      ]
     },
     "execution_count": 11,
     "metadata": {},
     "output_type": "execute_result"
    }
   ],
   "source": [
    "process_value(\"bilge\")"
   ]
  },
  {
   "cell_type": "code",
   "execution_count": 14,
   "id": "a17b58c8-7553-4692-a4b0-d5312fea9215",
   "metadata": {},
   "outputs": [],
   "source": [
    "from typing import List\n",
    "def sum_list(numbers: List[int])->int:\n",
    "    return sum(numbers)\n",
    "    "
   ]
  },
  {
   "cell_type": "code",
   "execution_count": 15,
   "id": "b1c123ad-d81d-4fe1-a54f-ffa21776253d",
   "metadata": {},
   "outputs": [],
   "source": [
    "numbers=[1,2,3,4,5,6,7,8]"
   ]
  },
  {
   "cell_type": "code",
   "execution_count": 16,
   "id": "bffef01b-f9d8-4d92-9436-89ddf1fc0ef9",
   "metadata": {},
   "outputs": [
    {
     "data": {
      "text/plain": [
       "36"
      ]
     },
     "execution_count": 16,
     "metadata": {},
     "output_type": "execute_result"
    }
   ],
   "source": [
    "sum_list(numbers)"
   ]
  },
  {
   "cell_type": "code",
   "execution_count": null,
   "id": "35cf53e1-4b13-41ea-ae3a-1ec65e98498a",
   "metadata": {},
   "outputs": [],
   "source": []
  },
  {
   "cell_type": "code",
   "execution_count": null,
   "id": "81cf7a14-0c13-4054-a9b1-ac7bdbe70b69",
   "metadata": {},
   "outputs": [],
   "source": []
  },
  {
   "cell_type": "code",
   "execution_count": null,
   "id": "952ac973-6860-48d7-9a78-8ea773e59df7",
   "metadata": {},
   "outputs": [],
   "source": []
  }
 ],
 "metadata": {
  "kernelspec": {
   "display_name": "Python [conda env:base] *",
   "language": "python",
   "name": "conda-base-py"
  },
  "language_info": {
   "codemirror_mode": {
    "name": "ipython",
    "version": 3
   },
   "file_extension": ".py",
   "mimetype": "text/x-python",
   "name": "python",
   "nbconvert_exporter": "python",
   "pygments_lexer": "ipython3",
   "version": "3.12.7"
  }
 },
 "nbformat": 4,
 "nbformat_minor": 5
}
