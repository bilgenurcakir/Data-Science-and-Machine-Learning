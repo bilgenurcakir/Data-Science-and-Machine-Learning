{
 "cells": [
  {
   "cell_type": "code",
   "execution_count": 30,
   "id": "a52bf776-89a2-4bf3-804c-eaf956f1ffb0",
   "metadata": {},
   "outputs": [
    {
     "name": "stdout",
     "output_type": "stream",
     "text": [
      "Writing myfiles.txt\n"
     ]
    }
   ],
   "source": [
    "%%writefile myfiles.txt\n",
    "test 1\n",
    "test 2 \n",
    "test 3"
   ]
  },
  {
   "cell_type": "code",
   "execution_count": 31,
   "id": "a695da6a-428e-4a1e-b4e7-d888345bfd75",
   "metadata": {},
   "outputs": [],
   "source": [
    "myFile= open(\"myfiles.txt\")"
   ]
  },
  {
   "cell_type": "code",
   "execution_count": 32,
   "id": "4b959d59-3d15-4283-ae0b-7f1528bcbe42",
   "metadata": {},
   "outputs": [
    {
     "data": {
      "text/plain": [
       "_io.TextIOWrapper"
      ]
     },
     "execution_count": 32,
     "metadata": {},
     "output_type": "execute_result"
    }
   ],
   "source": [
    "type(myFile)"
   ]
  },
  {
   "cell_type": "code",
   "execution_count": 33,
   "id": "99f48f72-2f18-419c-9ea3-57b385a86446",
   "metadata": {},
   "outputs": [
    {
     "data": {
      "text/plain": [
       "'test 1\\ntest 2 \\ntest 3\\n'"
      ]
     },
     "execution_count": 33,
     "metadata": {},
     "output_type": "execute_result"
    }
   ],
   "source": [
    "myFile.read()"
   ]
  },
  {
   "cell_type": "code",
   "execution_count": 34,
   "id": "15b0a025-a171-4d34-9386-d258abeb0a59",
   "metadata": {},
   "outputs": [
    {
     "data": {
      "text/plain": [
       "''"
      ]
     },
     "execution_count": 34,
     "metadata": {},
     "output_type": "execute_result"
    }
   ],
   "source": [
    "myFile.read()"
   ]
  },
  {
   "cell_type": "code",
   "execution_count": 37,
   "id": "326ff7a8-0c5f-4b54-af29-44ff3bd6cf43",
   "metadata": {},
   "outputs": [
    {
     "data": {
      "text/plain": [
       "0"
      ]
     },
     "execution_count": 37,
     "metadata": {},
     "output_type": "execute_result"
    }
   ],
   "source": [
    "myFile.seek(0) #dosyanın en başına git"
   ]
  },
  {
   "cell_type": "code",
   "execution_count": 38,
   "id": "7a80b896-97a6-467d-9969-63934b914bff",
   "metadata": {},
   "outputs": [
    {
     "data": {
      "text/plain": [
       "'test 1\\ntest 2 \\ntest 3\\n'"
      ]
     },
     "execution_count": 38,
     "metadata": {},
     "output_type": "execute_result"
    }
   ],
   "source": [
    "myFile.read()"
   ]
  },
  {
   "cell_type": "code",
   "execution_count": 39,
   "id": "2aca7e06-65c0-482b-9992-64654a93e570",
   "metadata": {},
   "outputs": [],
   "source": [
    "myFile.close()"
   ]
  },
  {
   "cell_type": "code",
   "execution_count": 40,
   "id": "bc252d55-1714-45ce-903a-67458a94ba64",
   "metadata": {},
   "outputs": [],
   "source": [
    "with open(\"myfiles.txt\") as myFile:\n",
    "     mycontent=myFile.read()\n",
    "    "
   ]
  },
  {
   "cell_type": "code",
   "execution_count": 41,
   "id": "661af358-bf2e-407e-afa0-513841a1a514",
   "metadata": {},
   "outputs": [
    {
     "data": {
      "text/plain": [
       "'test 1\\ntest 2 \\ntest 3\\n'"
      ]
     },
     "execution_count": 41,
     "metadata": {},
     "output_type": "execute_result"
    }
   ],
   "source": [
    "mycontent"
   ]
  },
  {
   "cell_type": "code",
   "execution_count": 42,
   "id": "1cd34ab5-736c-4cb1-978d-c023756f8fb1",
   "metadata": {},
   "outputs": [],
   "source": [
    "with open(\"myfiles.txt\",mode=\"w\") as newfile:\n",
    "    newfile.write(\"test 4\")\n",
    "   #içeriği değiştirdi komple sildi. "
   ]
  },
  {
   "cell_type": "code",
   "execution_count": 43,
   "id": "02f69e1a-72a4-452c-bbf3-4f8268fc842c",
   "metadata": {},
   "outputs": [
    {
     "data": {
      "text/plain": [
       "<_io.TextIOWrapper name='myfiles.txt' mode='w' encoding='UTF-8'>"
      ]
     },
     "execution_count": 43,
     "metadata": {},
     "output_type": "execute_result"
    }
   ],
   "source": [
    "newfile\n"
   ]
  },
  {
   "cell_type": "code",
   "execution_count": 45,
   "id": "94d0a161-28d6-4a36-a8a1-031bebfbd287",
   "metadata": {},
   "outputs": [],
   "source": [
    "with open(\"myfiles.txt\",mode=\"r\") as myfile2:\n",
    "    mycontent2=myfile2.read()\n",
    "    "
   ]
  },
  {
   "cell_type": "code",
   "execution_count": 47,
   "id": "718f4e23-2c0c-41dd-9be5-2327176fc27b",
   "metadata": {},
   "outputs": [
    {
     "data": {
      "text/plain": [
       "'test 4'"
      ]
     },
     "execution_count": 47,
     "metadata": {},
     "output_type": "execute_result"
    }
   ],
   "source": [
    "mycontent2"
   ]
  },
  {
   "cell_type": "code",
   "execution_count": null,
   "id": "fd7d50f2-eb4c-482c-bcf3-56a0975c8781",
   "metadata": {},
   "outputs": [],
   "source": [
    "# w ile açmak write, r-> read, a->append anlamına gelir\n",
    "# w içeriği tamamen silerek yazar, a üzerine ekler\n"
   ]
  },
  {
   "cell_type": "code",
   "execution_count": 48,
   "id": "b08c0a2a-25d3-4614-8a58-25e4b0e09f78",
   "metadata": {},
   "outputs": [],
   "source": [
    "with open(\"myfiles.txt\",mode=\"a\") as newfile3:\n",
    "    newfile3.write(\"test 5\")\n",
    "    "
   ]
  },
  {
   "cell_type": "code",
   "execution_count": 49,
   "id": "6b14dcf4-518f-453a-804c-743747216b42",
   "metadata": {},
   "outputs": [],
   "source": [
    "with open(\"myfiles.txt\",mode=\"r\") as myfile3:\n",
    "    mycontent3=myfile3.read()\n",
    "    "
   ]
  },
  {
   "cell_type": "code",
   "execution_count": 50,
   "id": "3847f349-f2f9-4eb8-9bf5-07f7b1191be2",
   "metadata": {},
   "outputs": [
    {
     "data": {
      "text/plain": [
       "'test 4test 5'"
      ]
     },
     "execution_count": 50,
     "metadata": {},
     "output_type": "execute_result"
    }
   ],
   "source": [
    "mycontent3"
   ]
  },
  {
   "cell_type": "code",
   "execution_count": null,
   "id": "2b823de1-58b1-47da-aeee-a98732f4c72f",
   "metadata": {},
   "outputs": [],
   "source": []
  },
  {
   "cell_type": "code",
   "execution_count": null,
   "id": "aaf29c75-bb0d-413a-9f83-dde4a9230b59",
   "metadata": {},
   "outputs": [],
   "source": []
  }
 ],
 "metadata": {
  "kernelspec": {
   "display_name": "Python [conda env:base] *",
   "language": "python",
   "name": "conda-base-py"
  },
  "language_info": {
   "codemirror_mode": {
    "name": "ipython",
    "version": 3
   },
   "file_extension": ".py",
   "mimetype": "text/x-python",
   "name": "python",
   "nbconvert_exporter": "python",
   "pygments_lexer": "ipython3",
   "version": "3.12.7"
  }
 },
 "nbformat": 4,
 "nbformat_minor": 5
}
