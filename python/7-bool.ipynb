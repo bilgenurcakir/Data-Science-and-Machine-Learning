{
 "cells": [
  {
   "cell_type": "code",
   "execution_count": 1,
   "id": "f8c4ba5f-afd1-4b5d-9f02-4a3e1cec589d",
   "metadata": {},
   "outputs": [
    {
     "data": {
      "text/plain": [
       "True"
      ]
     },
     "execution_count": 1,
     "metadata": {},
     "output_type": "execute_result"
    }
   ],
   "source": [
    "True"
   ]
  },
  {
   "cell_type": "code",
   "execution_count": 2,
   "id": "bd8e9bb4-c8d5-47dc-a2ba-f929fb3bc145",
   "metadata": {},
   "outputs": [
    {
     "data": {
      "text/plain": [
       "False"
      ]
     },
     "execution_count": 2,
     "metadata": {},
     "output_type": "execute_result"
    }
   ],
   "source": [
    "False"
   ]
  },
  {
   "cell_type": "code",
   "execution_count": 3,
   "id": "40b3e7a1-4965-4010-8ae3-8c9527e057ba",
   "metadata": {},
   "outputs": [],
   "source": [
    "mybool=True"
   ]
  },
  {
   "cell_type": "code",
   "execution_count": 4,
   "id": "cc5bf849-de28-460b-918f-6595dfc29326",
   "metadata": {},
   "outputs": [
    {
     "data": {
      "text/plain": [
       "bool"
      ]
     },
     "execution_count": 4,
     "metadata": {},
     "output_type": "execute_result"
    }
   ],
   "source": [
    "type(mybool)"
   ]
  },
  {
   "cell_type": "code",
   "execution_count": 5,
   "id": "8541f615-4fa1-46b8-8e63-7c4887a99241",
   "metadata": {},
   "outputs": [
    {
     "data": {
      "text/plain": [
       "True"
      ]
     },
     "execution_count": 5,
     "metadata": {},
     "output_type": "execute_result"
    }
   ],
   "source": [
    "5>3"
   ]
  },
  {
   "cell_type": "code",
   "execution_count": 6,
   "id": "40a41dbf-db62-4143-b2e7-26783d92a724",
   "metadata": {},
   "outputs": [
    {
     "data": {
      "text/plain": [
       "False"
      ]
     },
     "execution_count": 6,
     "metadata": {},
     "output_type": "execute_result"
    }
   ],
   "source": [
    "3>5"
   ]
  },
  {
   "cell_type": "code",
   "execution_count": 7,
   "id": "0cbde2d8-c593-4da9-8843-7befe8950aed",
   "metadata": {},
   "outputs": [
    {
     "data": {
      "text/plain": [
       "True"
      ]
     },
     "execution_count": 7,
     "metadata": {},
     "output_type": "execute_result"
    }
   ],
   "source": [
    "7>=3"
   ]
  },
  {
   "cell_type": "code",
   "execution_count": 12,
   "id": "40a3c744-2afd-488c-95e1-6b5380988ba8",
   "metadata": {},
   "outputs": [
    {
     "name": "stdin",
     "output_type": "stream",
     "text": [
      "yaş giriniz 4\n"
     ]
    },
    {
     "data": {
      "text/plain": [
       "True"
      ]
     },
     "execution_count": 12,
     "metadata": {},
     "output_type": "execute_result"
    }
   ],
   "source": [
    "age=input(\"yaş giriniz\")\n",
    "\n",
    "18 > int(age)"
   ]
  },
  {
   "cell_type": "code",
   "execution_count": null,
   "id": "32521a9d-0bca-4cea-8469-1ddc9b64a306",
   "metadata": {},
   "outputs": [],
   "source": []
  },
  {
   "cell_type": "code",
   "execution_count": null,
   "id": "1519fa7f-160f-40b6-b8ff-5b099afcb57e",
   "metadata": {},
   "outputs": [],
   "source": []
  },
  {
   "cell_type": "code",
   "execution_count": null,
   "id": "9e27fda5-4ed3-4351-9a70-0b1afafdc62a",
   "metadata": {},
   "outputs": [],
   "source": []
  },
  {
   "cell_type": "code",
   "execution_count": null,
   "id": "f68e0c9b-e0d0-44ac-aecf-8ccc40e041b8",
   "metadata": {},
   "outputs": [],
   "source": []
  },
  {
   "cell_type": "code",
   "execution_count": null,
   "id": "3ca7c2af-c173-4c31-9679-e8b146af5bbd",
   "metadata": {},
   "outputs": [],
   "source": []
  }
 ],
 "metadata": {
  "kernelspec": {
   "display_name": "Python [conda env:base] *",
   "language": "python",
   "name": "conda-base-py"
  },
  "language_info": {
   "codemirror_mode": {
    "name": "ipython",
    "version": 3
   },
   "file_extension": ".py",
   "mimetype": "text/x-python",
   "name": "python",
   "nbconvert_exporter": "python",
   "pygments_lexer": "ipython3",
   "version": "3.12.7"
  }
 },
 "nbformat": 4,
 "nbformat_minor": 5
}
